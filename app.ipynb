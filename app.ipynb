{
 "cells": [
  {
   "cell_type": "markdown",
   "metadata": {
    "pycharm": {
     "name": "#%% md\n"
    }
   },
   "source": [
    "# GPX Viewer\n",
    "\n",
    "This app lets you to display a track from a GPX or CSV file recorded with a GPS device."
   ]
  },
  {
   "cell_type": "code",
   "execution_count": 1,
   "metadata": {
    "jupyter": {
     "source_hidden": true
    },
    "pycharm": {
     "name": "#%%\n"
    },
    "tags": []
   },
   "outputs": [],
   "source": [
    "import sys, os, io\n",
    "from ipywidgets import Button, HTML, HBox, FileUpload, Label, Output, Layout, Image\n",
    "\n",
    "sys.path.append(os.getcwd() + '/src')\n",
    "\n",
    "from sailing_session import SailingSession\n",
    "from sailing_graphs import *\n",
    "from utils import calculate_initial_compass_bearing\n"
   ]
  },
  {
   "cell_type": "code",
   "execution_count": 2,
   "metadata": {
    "collapsed": true,
    "jupyter": {
     "outputs_hidden": true,
     "source_hidden": true
    },
    "pycharm": {
     "name": "#%%\n"
    },
    "tags": []
   },
   "outputs": [
    {
     "data": {
      "application/vnd.jupyter.widget-view+json": {
       "model_id": "fcec2c084124478d8da39b2626b64936",
       "version_major": 2,
       "version_minor": 0
      },
      "text/plain": [
       "HBox(children=(Label(value='Powered by:'), Image(value=b'\\x89PNG\\r\\n\\x1a\\n\\x00\\x00\\x00\\rIHDR\\x00\\x00\\x00N\\x00\\…"
      ]
     },
     "metadata": {},
     "output_type": "display_data"
    }
   ],
   "source": [
    "tools = [\"voila\", \"ipyleaflet\", \"ipywidgets\", \"bqplot\"]\n",
    "logos = []\n",
    "for tool in tools:\n",
    "    with open(f'./img/{tool}.png', 'rb') as f:\n",
    "        image = f.read()\n",
    "    img = Image(value=image, format='png',layout=Layout(padding='10px'))\n",
    "    logos.append(img)\n",
    "HBox([Label(value='Powered by:')] + logos, layout=Layout(flex_flow='row', align_items='center'))"
   ]
  },
  {
   "cell_type": "code",
   "execution_count": 3,
   "metadata": {
    "jupyter": {
     "source_hidden": true
    },
    "pycharm": {
     "name": "#%%\n"
    },
    "tags": []
   },
   "outputs": [],
   "source": [
    "# Create outputs for map and polar to render into\n",
    "# call them later to actually display them\n",
    "global_map_out = Output()\n",
    "global_polar_out = Output()"
   ]
  },
  {
   "cell_type": "code",
   "execution_count": 4,
   "metadata": {
    "jupyter": {
     "source_hidden": true
    },
    "tags": []
   },
   "outputs": [],
   "source": [
    "def map_polar_buttons(session, map_out=global_map_out, polar_out=global_polar_out):\n",
    "    def map_button():\n",
    "        @map_out.capture()\n",
    "        def map_button_clicked(change):\n",
    "            map_out.clear_output()\n",
    "            with map_out:\n",
    "                chart = ipyleaflet_chart(session)\n",
    "                graph = bqplot_graph(session)\n",
    "                link_chart_graph(chart, graph, session)\n",
    "                display(chart)\n",
    "                display(graph)\n",
    "\n",
    "        button = Button(description=\"Show Map\")\n",
    "        button.on_click(map_button_clicked)\n",
    "        return button\n",
    "\n",
    "    def polar_button():\n",
    "        @polar_out.capture()\n",
    "        def polar_button_clicked(change):\n",
    "            polar_out.clear_output()\n",
    "            with polar_out:\n",
    "                render_polar(session)\n",
    "\n",
    "        button = Button(description=\"Show Polar\")\n",
    "        button.on_click(polar_button_clicked)\n",
    "        return button\n",
    "    \n",
    "    buttons = [map_button(), polar_button()]\n",
    "    display(HBox(buttons, layout=Layout(flex_flow='row', align_items='center')))"
   ]
  },
  {
   "cell_type": "code",
   "execution_count": 5,
   "metadata": {
    "jupyter": {
     "source_hidden": true
    },
    "pycharm": {
     "name": "#%%\n"
    },
    "tags": []
   },
   "outputs": [],
   "source": [
    "# TODO the gpx examples currently won't show the map because of timestamp issues\n",
    "# so display CSVs only\n",
    "\n",
    "def show_examples(output):\n",
    "    example_folder = \"./examples\"\n",
    "    examples = [f for f in os.listdir(example_folder) if f.endswith('.csv')]\n",
    "    \n",
    "    def create_example(name):\n",
    "        filename = os.path.join(example_folder, name)\n",
    "        \n",
    "        @output.capture()\n",
    "        def on_example_clicked(change):\n",
    "            # output.clear_output()\n",
    "            with output:\n",
    "                display(HBox([Label(value='Loading...')], layout=Layout(flex_flow='row', align_items='center')))\n",
    "                global session\n",
    "                session = SailingSession(filename)\n",
    "                map_polar_buttons(session)\n",
    "    \n",
    "        button = Button(description=os.path.splitext(name)[0])\n",
    "        button.on_click(on_example_clicked)\n",
    "        return button\n",
    "    \n",
    "    buttons = [create_example(example) for example in examples]\n",
    "    line = HBox(buttons, layout=Layout(flex_flow='row', align_items='center'))\n",
    "    display(line)"
   ]
  },
  {
   "cell_type": "code",
   "execution_count": 6,
   "metadata": {
    "pycharm": {
     "name": "#%%\n"
    }
   },
   "outputs": [],
   "source": [
    "def show_uploader(output):\n",
    "    uploader = FileUpload(accept='.gpx, .csv', multiple=False)\n",
    "\n",
    "    def handle_upload(change):\n",
    "        with output:\n",
    "            display(HBox([Label(value='Loading...')], layout=Layout(flex_flow='row', align_items='center')))\n",
    "        with open(\"tmp/session.csv\", \"w+b\") as f:\n",
    "            f.write(uploader.data[0])\n",
    "        with output:\n",
    "            global session\n",
    "            session = SailingSession(\"tmp/session.csv\")\n",
    "            map_polar_buttons(session)\n",
    "        \n",
    "    uploader.observe(handle_upload, names='value')\n",
    "    display(uploader)\n"
   ]
  },
  {
   "cell_type": "markdown",
   "metadata": {},
   "source": [
    "### Upload File\n",
    "\n",
    "If you have a csv of a GPS trace, upload it below:"
   ]
  },
  {
   "cell_type": "code",
   "execution_count": 7,
   "metadata": {},
   "outputs": [
    {
     "data": {
      "application/vnd.jupyter.widget-view+json": {
       "model_id": "01c8895df5c84351aa0393474f3d07d2",
       "version_major": 2,
       "version_minor": 0
      },
      "text/plain": [
       "FileUpload(value={}, accept='.gpx, .csv', description='Upload')"
      ]
     },
     "metadata": {},
     "output_type": "display_data"
    },
    {
     "data": {
      "application/vnd.jupyter.widget-view+json": {
       "model_id": "fb06e780a2ee436799157934ecdf8164",
       "version_major": 2,
       "version_minor": 0
      },
      "text/plain": [
       "Output()"
      ]
     },
     "metadata": {},
     "output_type": "display_data"
    }
   ],
   "source": [
    "upload_button_out = Output()\n",
    "show_uploader(upload_button_out)\n",
    "# call output to display\n",
    "upload_button_out"
   ]
  },
  {
   "cell_type": "markdown",
   "metadata": {
    "pycharm": {
     "name": "#%% md\n"
    }
   },
   "source": [
    "### Example\n",
    "\n",
    "If you don't have a GPX or CSV file, try with one of the following examples:"
   ]
  },
  {
   "cell_type": "code",
   "execution_count": 8,
   "metadata": {
    "pycharm": {
     "name": "#%%\n"
    }
   },
   "outputs": [
    {
     "data": {
      "application/vnd.jupyter.widget-view+json": {
       "model_id": "97612e2f54f34024825d9506037ff645",
       "version_major": 2,
       "version_minor": 0
      },
      "text/plain": [
       "HBox(children=(Button(description='laser Tuesday June 20-2023-06-20', style=ButtonStyle()), Button(description…"
      ]
     },
     "metadata": {},
     "output_type": "display_data"
    },
    {
     "data": {
      "application/vnd.jupyter.widget-view+json": {
       "model_id": "f8920d5bd30245ca9ff3e44ab7e1fc8e",
       "version_major": 2,
       "version_minor": 0
      },
      "text/plain": [
       "Output()"
      ]
     },
     "metadata": {},
     "output_type": "display_data"
    }
   ],
   "source": [
    "example_buttons_out = Output()\n",
    "show_examples(example_buttons_out)\n",
    "# call the output to display it\n",
    "example_buttons_out"
   ]
  },
  {
   "cell_type": "code",
   "execution_count": 9,
   "metadata": {},
   "outputs": [
    {
     "data": {
      "application/vnd.jupyter.widget-view+json": {
       "model_id": "34d60088014b49a38eb3e257eafbd608",
       "version_major": 2,
       "version_minor": 0
      },
      "text/plain": [
       "Output()"
      ]
     },
     "metadata": {},
     "output_type": "display_data"
    }
   ],
   "source": [
    "global_polar_out"
   ]
  },
  {
   "cell_type": "code",
   "execution_count": 10,
   "metadata": {
    "tags": []
   },
   "outputs": [
    {
     "data": {
      "application/vnd.jupyter.widget-view+json": {
       "model_id": "92bc2dc3d1a642bfa520e8a9f9cbaea5",
       "version_major": 2,
       "version_minor": 0
      },
      "text/plain": [
       "Output()"
      ]
     },
     "metadata": {},
     "output_type": "display_data"
    }
   ],
   "source": [
    "global_map_out"
   ]
  },
  {
   "cell_type": "code",
   "execution_count": 11,
   "metadata": {},
   "outputs": [],
   "source": []
  },
  {
   "cell_type": "code",
   "execution_count": null,
   "metadata": {},
   "outputs": [],
   "source": []
  },
  {
   "cell_type": "code",
   "execution_count": null,
   "metadata": {
    "tags": []
   },
   "outputs": [],
   "source": []
  },
  {
   "cell_type": "code",
   "execution_count": null,
   "metadata": {},
   "outputs": [],
   "source": []
  }
 ],
 "metadata": {
  "kernelspec": {
   "display_name": "Python 3 (ipykernel)",
   "language": "python",
   "name": "python3"
  },
  "language_info": {
   "codemirror_mode": {
    "name": "ipython",
    "version": 3
   },
   "file_extension": ".py",
   "mimetype": "text/x-python",
   "name": "python",
   "nbconvert_exporter": "python",
   "pygments_lexer": "ipython3",
   "version": "3.10.12"
  },
  "title": "GPX Viewer"
 },
 "nbformat": 4,
 "nbformat_minor": 4
}
