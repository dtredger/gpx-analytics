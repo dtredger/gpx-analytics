{
 "cells": [
  {
   "cell_type": "markdown",
   "metadata": {},
   "source": [
    "# GPX Viewer"
   ]
  },
  {
   "cell_type": "code",
   "execution_count": null,
   "metadata": {},
   "outputs": [],
   "source": [
    "import datetime\n",
    "import json\n",
    "from collections import defaultdict\n",
    "from io import StringIO\n",
    "from statistics import mean\n",
    "\n",
    "import gpxpy\n",
    "import srtm\n",
    "import pandas as pd\n",
    "\n",
    "from ipyleaflet import Map, Polyline, Marker\n",
    "from ipyupload import FileUpload \n",
    "from ipywidgets import HTML, HBox, Label, GridBox, Output, IntSlider, Layout"
   ]
  },
  {
   "cell_type": "code",
   "execution_count": null,
   "metadata": {},
   "outputs": [],
   "source": [
    "data_viewer = GridBox(\n",
    "    children=[],\n",
    "    layout=Layout(\n",
    "        width='100%',\n",
    "        grid_template_rows='auto auto',\n",
    "        grid_template_columns='25% 25% 25% 25%',\n",
    "        grid_template_areas='''\n",
    "        \"header header header header\"\n",
    "        \"main main main main\"\n",
    "        ''')\n",
    "   )"
   ]
  },
  {
   "cell_type": "code",
   "execution_count": null,
   "metadata": {},
   "outputs": [],
   "source": [
    "def parse_data(file):\n",
    "    gpx = gpxpy.parse(file)\n",
    "    elevation_data = srtm.get_data()\n",
    "    elevation_data.add_elevations(gpx, smooth=True)\n",
    "    return gpx"
   ]
  },
  {
   "cell_type": "code",
   "execution_count": null,
   "metadata": {
    "scrolled": false
   },
   "outputs": [],
   "source": [
    "def plot_map(gpx):\n",
    "    points = [p.point for p in gpx.get_points_data(distance_2d=True)]\n",
    "    mean_lat = mean(p.latitude for p in points)\n",
    "    mean_lng = mean(p.longitude for p in points)\n",
    "\n",
    "    # create map\n",
    "    m = Map(center=(mean_lat, mean_lng), zoom=15)\n",
    "\n",
    "    # show trace\n",
    "    line = Polyline(locations=[[[p.latitude, p.longitude] for p in points],],\n",
    "                    color = \"red\", fill=False)\n",
    "    m.add_layer(line)\n",
    "\n",
    "    # add markers\n",
    "    for point in gpx.waypoints:\n",
    "        lat, lng = point.latitude, point.longitude\n",
    "        marker = Marker(location=(lat, lng), title=point.name, popup=HTML(value=point.name), draggable=False)\n",
    "        m.add_layer(marker);\n",
    "\n",
    "    return HBox([m], layout=Layout(width='100%', grid_area='main'))"
   ]
  },
  {
   "cell_type": "code",
   "execution_count": null,
   "metadata": {},
   "outputs": [],
   "source": [
    "def plot_stats(gpx):\n",
    "    lowest, highest = gpx.get_elevation_extremes()\n",
    "    uphill, downhill = gpx.get_uphill_downhill()\n",
    "    points = gpx.get_points_data(distance_2d=True)\n",
    "    \n",
    "    _, distance_from_start, *rest = points[-1]\n",
    "    \n",
    "    stats = defaultdict(list)\n",
    "    stats['Date'].append(gpx.get_time_bounds().start_time.strftime(\"%Y-%m-%d\"))\n",
    "    stats['Distance'].append(round(distance_from_start / 1000, 2))\n",
    "    stats['Duration'].append(str(datetime.timedelta(seconds=gpx.get_duration())))\n",
    "    stats['Lowest'].append(int(lowest))\n",
    "    stats['Highest'].append(int(highest))\n",
    "    stats['Uphill'].append(int(uphill))\n",
    "    stats['Downhill'].append(int(downhill))\n",
    "    \n",
    "    df = pd.DataFrame(\n",
    "        stats,\n",
    "        columns=['Date', 'Distance', 'Duration', 'Lowest', 'Highest', 'Uphill', 'Downhill']\n",
    "    )\n",
    "    \n",
    "    return HTML(value=df.to_html(index=False),\n",
    "               layout=Layout(width='100%', grid_area='header'))"
   ]
  },
  {
   "cell_type": "code",
   "execution_count": null,
   "metadata": {},
   "outputs": [],
   "source": [
    "def parse_files(change):\n",
    "    # unpack data\n",
    "    all_files = [v for _, v in change['new'].items()]\n",
    "    raw = all_files[0]['content'].decode('utf-8')\n",
    "    with StringIO(raw) as f:\n",
    "        gpx = parse_data(f)\n",
    "    \n",
    "    stats = plot_stats(gpx)\n",
    "    m = plot_map(gpx)\n",
    "\n",
    "    data_viewer.children = [stats, m]"
   ]
  },
  {
   "cell_type": "code",
   "execution_count": null,
   "metadata": {},
   "outputs": [],
   "source": [
    "uploader = FileUpload(accept=None,\n",
    "           multiple=False, \n",
    "           disabled=False,\n",
    "           style_button='color: darkblue; background-color: lightsalmon; width: 180px;',\n",
    "           compress_level=9\n",
    "          )\n",
    "\n",
    "uploader.observe(parse_files, names='value')"
   ]
  },
  {
   "cell_type": "code",
   "execution_count": null,
   "metadata": {},
   "outputs": [],
   "source": [
    "uploader"
   ]
  },
  {
   "cell_type": "code",
   "execution_count": null,
   "metadata": {},
   "outputs": [],
   "source": [
    "data_viewer"
   ]
  }
 ],
 "metadata": {
  "kernelspec": {
   "display_name": "Python 3",
   "language": "python",
   "name": "python3"
  },
  "language_info": {
   "codemirror_mode": {
    "name": "ipython",
    "version": 3
   },
   "file_extension": ".py",
   "mimetype": "text/x-python",
   "name": "python",
   "nbconvert_exporter": "python",
   "pygments_lexer": "ipython3",
   "version": "3.7.3"
  },
  "title": "GPX Viewer"
 },
 "nbformat": 4,
 "nbformat_minor": 2
}
