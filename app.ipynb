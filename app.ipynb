{
 "cells": [
  {
   "cell_type": "markdown",
   "metadata": {
    "pycharm": {
     "name": "#%% md\n"
    }
   },
   "source": [
    "# GPX Viewer\n",
    "\n",
    "This app lets you to display a track from a GPX file recorded with a GPS device."
   ]
  },
  {
   "cell_type": "code",
   "execution_count": 20,
   "metadata": {
    "pycharm": {
     "name": "#%%\n"
    }
   },
   "outputs": [],
   "source": [
    "import sys,os\n",
    "from ipywidgets import Button, HTML, HBox, FileUpload, Label, Output, Layout, Image\n",
    "\n",
    "sys.path.append(os.getcwd() + '/src')\n",
    "import sailing_analytics\n",
    "import trail_mapping"
   ]
  },
  {
   "cell_type": "code",
   "execution_count": 21,
   "metadata": {
    "pycharm": {
     "name": "#%%\n"
    }
   },
   "outputs": [
    {
     "data": {
      "application/vnd.jupyter.widget-view+json": {
       "model_id": "95b0edfc207144cc935ab93d6427f1a7",
       "version_major": 2,
       "version_minor": 0
      },
      "text/plain": [
       "HBox(children=(Label(value='Powered by:'), Image(value=b'\\x89PNG\\r\\n\\x1a\\n\\x00\\x00\\x00\\rIHDR\\x00\\x00\\x00N\\x00\\…"
      ]
     },
     "metadata": {},
     "output_type": "display_data"
    }
   ],
   "source": [
    "tools = [\"voila\", \"ipyleaflet\", \"ipywidgets\", \"bqplot\"]\n",
    "logos = []\n",
    "for tool in tools:\n",
    "    with open(f'./img/{tool}.png', 'rb') as f:\n",
    "        image = f.read()\n",
    "    img = Image(value=image, format='png',layout=Layout(padding='10px'))\n",
    "    logos.append(img)\n",
    "HBox([Label(value='Powered by:')] + logos, layout=Layout(flex_flow='row', align_items='center'))"
   ]
  },
  {
   "cell_type": "code",
   "execution_count": 22,
   "metadata": {
    "pycharm": {
     "name": "#%%\n"
    }
   },
   "outputs": [],
   "source": [
    "\"\"\"\n",
    "create the output widget to place the results\n",
    "\"\"\"\n",
    "global out \n",
    "out = Output()\n",
    "\n",
    "out_bottom = Output()"
   ]
  },
  {
   "cell_type": "code",
   "execution_count": 23,
   "metadata": {
    "pycharm": {
     "name": "#%%\n"
    }
   },
   "outputs": [],
   "source": [
    "def show_uploader():\n",
    "    uploader = FileUpload(accept='.gpx', multiple=False)\n",
    "\n",
    "    def handle_upload(change):\n",
    "        # keep only the last file\n",
    "        # TODO: check if this should be fixed in FileUpload widget\n",
    "        # when multiple=False\n",
    "        *_, (_, f) = change['new'].items()\n",
    "        gpx_content = f['content'].decode('utf-8')\n",
    "        out.clear_output()\n",
    "        with StringIO(gpx_content) as gpx_file:\n",
    "            session = sailing_analytics.SailingSession(gpx_file)\n",
    "            with out_bottom:\n",
    "                show_map_polar_buttons(session)\n",
    "\n",
    "\n",
    "    uploader.observe(handle_upload, names='value')\n",
    "    display(uploader)"
   ]
  },
  {
   "cell_type": "code",
   "execution_count": 24,
   "metadata": {
    "pycharm": {
     "name": "#%%\n"
    }
   },
   "outputs": [],
   "source": [
    "def show_examples():\n",
    "    example_folder = \"./examples\"\n",
    "    examples = [f for f in os.listdir(example_folder) if f.endswith('.gpx')]\n",
    "    \n",
    "    def create_example(name):\n",
    "        filename = os.path.join(example_folder, name)\n",
    "        \n",
    "        @out.capture()\n",
    "        def on_example_clicked(change):\n",
    "            out.clear_output()\n",
    "            with out:\n",
    "                global session\n",
    "                session = sailing_analytics.SailingSession(filename)\n",
    "                show_map_polar_buttons(session)\n",
    "                # trail_mapping.plot_gpx(f)\n",
    "    \n",
    "        button = Button(description=os.path.splitext(name)[0])\n",
    "        button.on_click(on_example_clicked)\n",
    "        return button\n",
    "    \n",
    "    buttons = [create_example(example) for example in examples]\n",
    "    line = HBox(buttons, layout=Layout(flex_flow='row', align_items='center'))\n",
    "    display(line)"
   ]
  },
  {
   "cell_type": "code",
   "execution_count": 25,
   "metadata": {
    "pycharm": {
     "name": "#%%\n"
    }
   },
   "outputs": [],
   "source": [
    "def show_map_polar_buttons(session):\n",
    "    def map_button():\n",
    "        @out.capture()\n",
    "        def map_button_clicked(change):\n",
    "            out.clear_output()\n",
    "            with out:\n",
    "                session.map()\n",
    "\n",
    "        button = Button(description=\"Show Map\")\n",
    "        button.on_click(map_button_clicked)\n",
    "        return button\n",
    "\n",
    "    def polar_button():\n",
    "        @out.capture()\n",
    "        def polar_button_clicked(change):\n",
    "            session.polar()\n",
    "            out.clear_output()\n",
    "            # with out:\n",
    "                # session.polar()\n",
    "\n",
    "        button = Button(description=\"Show Polar\")\n",
    "        button.on_click(polar_button_clicked)\n",
    "        return button\n",
    "\n",
    "    buttons = [map_button(), polar_button()]\n",
    "    line = HBox(buttons, layout=Layout(flex_flow='row', align_items='center'))\n",
    "    display(line)\n"
   ]
  },
  {
   "cell_type": "code",
   "execution_count": 26,
   "metadata": {
    "pycharm": {
     "name": "#%%\n"
    }
   },
   "outputs": [
    {
     "data": {
      "application/vnd.jupyter.widget-view+json": {
       "model_id": "f7ff23e560c14431b2bfc372efbef452",
       "version_major": 2,
       "version_minor": 0
      },
      "text/plain": [
       "Output()"
      ]
     },
     "metadata": {},
     "output_type": "display_data"
    }
   ],
   "source": [
    "out"
   ]
  },
  {
   "cell_type": "code",
   "execution_count": 27,
   "metadata": {
    "pycharm": {
     "name": "#%%\n"
    }
   },
   "outputs": [
    {
     "data": {
      "application/vnd.jupyter.widget-view+json": {
       "model_id": "ad97b64cdf12466a811b125481abc4b6",
       "version_major": 2,
       "version_minor": 0
      },
      "text/plain": [
       "HBox(children=(Button(description='Chrissy Field Kitefoil', style=ButtonStyle()), Button(description='recovery…"
      ]
     },
     "metadata": {},
     "output_type": "display_data"
    }
   ],
   "source": [
    "show_examples()"
   ]
  },
  {
   "cell_type": "markdown",
   "metadata": {
    "pycharm": {
     "name": "#%% md\n"
    }
   },
   "source": [
    "If you don't have a GPX file, try with one of the following examples:"
   ]
  },
  {
   "cell_type": "code",
   "execution_count": 28,
   "metadata": {
    "pycharm": {
     "name": "#%%\n"
    }
   },
   "outputs": [
    {
     "data": {
      "application/vnd.jupyter.widget-view+json": {
       "model_id": "792822a154d34c64abd9e1f28ce14ea1",
       "version_major": 2,
       "version_minor": 0
      },
      "text/plain": [
       "FileUpload(value={}, accept='.gpx', description='Upload')"
      ]
     },
     "metadata": {},
     "output_type": "display_data"
    }
   ],
   "source": [
    "show_uploader()"
   ]
  },
  {
   "cell_type": "code",
   "execution_count": 29,
   "metadata": {},
   "outputs": [
    {
     "data": {
      "application/vnd.jupyter.widget-view+json": {
       "model_id": "13e57c9f585444b786a636f68558e62a",
       "version_major": 2,
       "version_minor": 0
      },
      "text/plain": [
       "Output()"
      ]
     },
     "metadata": {},
     "output_type": "display_data"
    }
   ],
   "source": [
    "out_bottom"
   ]
  },
  {
   "cell_type": "code",
   "execution_count": null,
   "metadata": {},
   "outputs": [],
   "source": []
  }
 ],
 "metadata": {
  "kernelspec": {
   "display_name": "Python 3.10 (XPython)",
   "language": "python",
   "name": "xpython"
  },
  "language_info": {
   "file_extension": ".py",
   "mimetype": "text/x-python",
   "name": "python",
   "version": "3.10.6"
  },
  "title": "GPX Viewer"
 },
 "nbformat": 4,
 "nbformat_minor": 4
}
