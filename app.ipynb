{
 "cells": [
  {
   "cell_type": "markdown",
   "metadata": {},
   "source": [
    "# GPX Viewer"
   ]
  },
  {
   "cell_type": "code",
   "execution_count": null,
   "metadata": {},
   "outputs": [],
   "source": [
    "from statistics import mean\n",
    "\n",
    "import gpxpy\n",
    "import srtm\n",
    "\n",
    "from ipyleaflet import Map, Polyline, Marker\n",
    "from ipywidgets import HTML"
   ]
  },
  {
   "cell_type": "code",
   "execution_count": null,
   "metadata": {},
   "outputs": [],
   "source": [
    "def parse_data(file):\n",
    "    with open(file, 'r') as f:\n",
    "        gpx = gpxpy.parse(f)\n",
    "    elevation_data = srtm.get_data()\n",
    "    elevation_data.add_elevations(gpx, smooth=True)\n",
    "    return gpx"
   ]
  },
  {
   "cell_type": "code",
   "execution_count": null,
   "metadata": {},
   "outputs": [],
   "source": [
    "gpx = parse_data('./trace.gpx')"
   ]
  },
  {
   "cell_type": "code",
   "execution_count": null,
   "metadata": {},
   "outputs": [],
   "source": [
    "print(gpx.name)"
   ]
  },
  {
   "cell_type": "code",
   "execution_count": null,
   "metadata": {
    "scrolled": false
   },
   "outputs": [],
   "source": [
    "points = [p.point for p in gpx.get_points_data()]\n",
    "mean_lat = mean(p.latitude for p in points)\n",
    "mean_lng = mean(p.longitude for p in points)\n",
    "\n",
    "# create map\n",
    "m = Map(center=(mean_lat, mean_lng), zoom=15)\n",
    "\n",
    "# show trace\n",
    "line = Polyline(locations=[[[p.latitude, p.longitude] for p in points],],\n",
    "                color = \"red\", fill=False)\n",
    "m.add_layer(line)\n",
    "\n",
    "# add markers\n",
    "for point in gpx.waypoints:\n",
    "    lat, lng = point.latitude, point.longitude\n",
    "    marker = Marker(location=(lat, lng), title=point.name, popup=HTML(value=point.name), draggable=False)\n",
    "    m.add_layer(marker);\n",
    "\n",
    "m"
   ]
  }
 ],
 "metadata": {
  "kernelspec": {
   "display_name": "Python 3",
   "language": "python",
   "name": "python3"
  },
  "language_info": {
   "codemirror_mode": {
    "name": "ipython",
    "version": 3
   },
   "file_extension": ".py",
   "mimetype": "text/x-python",
   "name": "python",
   "nbconvert_exporter": "python",
   "pygments_lexer": "ipython3",
   "version": "3.7.3"
  },
  "title": "GPX Viewer"
 },
 "nbformat": 4,
 "nbformat_minor": 2
}
