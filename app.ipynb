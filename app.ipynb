{
 "cells": [
  {
   "cell_type": "markdown",
   "metadata": {},
   "source": [
    "# GPX Viewer\n",
    "\n",
    "This app lets you to display a track from a GPX file recorded with a GPS device."
   ]
  },
  {
   "cell_type": "code",
   "execution_count": 43,
   "metadata": {},
   "outputs": [],
   "source": [
    "from ipywidgets import Button, HTML, HBox, FileUpload, Label, Output, Layout, Image\n",
    "\n",
    "\n",
    "# sailing-analytics\n",
    "import sys,os\n",
    "# add local directory into path\n",
    "sys.path.append(os.getcwd() + '/src')\n",
    "import sailing_analytics\n",
    "\n",
    "import trail_mapping\n",
    "\n",
    "session = sailing_analytics.SailingSession(\"examples/San Francisco Kitefoil.gpx\")"
   ]
  },
  {
   "cell_type": "code",
   "execution_count": 44,
   "metadata": {},
   "outputs": [
    {
     "data": {
      "application/vnd.jupyter.widget-view+json": {
       "model_id": "d40efabe2b1e4a5d878e66d634f4e9eb",
       "version_major": 2,
       "version_minor": 0
      },
      "text/plain": [
       "HBox(children=(Label(value='Powered by:'), Image(value=b'\\x89PNG\\r\\n\\x1a\\n\\x00\\x00\\x00\\rIHDR\\x00\\x00\\x00N\\x00\\…"
      ]
     },
     "metadata": {},
     "output_type": "display_data"
    }
   ],
   "source": [
    "tools = [\"voila\", \"ipyleaflet\", \"ipywidgets\", \"bqplot\"]\n",
    "logos = []\n",
    "for tool in tools:\n",
    "    with open(f'./img/{tool}.png', 'rb') as f:\n",
    "        image = f.read()\n",
    "    img = Image(value=image, format='png',layout=Layout(padding='10px'))\n",
    "    logos.append(img)\n",
    "HBox([Label(value='Powered by:')] + logos, layout=Layout(flex_flow='row', align_items='center'))"
   ]
  },
  {
   "cell_type": "code",
   "execution_count": 45,
   "metadata": {},
   "outputs": [],
   "source": [
    "\"\"\"\n",
    "create the output widget to place the results\n",
    "\"\"\"\n",
    "out = Output()"
   ]
  },
  {
   "cell_type": "code",
   "execution_count": 46,
   "metadata": {},
   "outputs": [],
   "source": [
    "def show_uploader():\n",
    "    uploader = FileUpload(accept='.gpx', multiple=False)\n",
    "\n",
    "    def handle_upload(change):\n",
    "        # keep only the last file\n",
    "        # TODO: check if this should be fixed in FileUpload widget\n",
    "        # when multiple=False\n",
    "        *_, (_, f) = change['new'].items()\n",
    "        gpx_content = f['content'].decode('utf-8')\n",
    "        out.clear_output()\n",
    "        with StringIO(gpx_content) as gpx_file:\n",
    "            with out:\n",
    "                plot_gpx(gpx_file)\n",
    "\n",
    "    uploader.observe(handle_upload, names='value')\n",
    "\n",
    "    display(uploader)"
   ]
  },
  {
   "cell_type": "code",
   "execution_count": 47,
   "metadata": {},
   "outputs": [],
   "source": [
    "def show_examples():\n",
    "    example_folder = \"./examples\"\n",
    "    examples = [f for f in os.listdir(example_folder) if f.endswith('.gpx')]\n",
    "    \n",
    "    def create_example(name):\n",
    "        filename = os.path.join(example_folder, name)\n",
    "        \n",
    "        @out.capture()\n",
    "        def on_example_clicked(change):\n",
    "            out.clear_output()\n",
    "            with open(filename) as f:\n",
    "                with out:\n",
    "                    plot_gpx(f)\n",
    "    \n",
    "        button = Button(description=os.path.splitext(name)[0])\n",
    "        button.on_click(on_example_clicked)\n",
    "        return button\n",
    "\n",
    "    \n",
    "    buttons = [create_example(example) for example in examples]\n",
    "    line = HBox(buttons, layout=Layout(flex_flow='row', align_items='center'))\n",
    "    display(line)"
   ]
  },
  {
   "cell_type": "code",
   "execution_count": 48,
   "metadata": {},
   "outputs": [
    {
     "data": {
      "application/vnd.jupyter.widget-view+json": {
       "model_id": "126a1f591fd24e3089e62b27cbc16cac",
       "version_major": 2,
       "version_minor": 0
      },
      "text/plain": [
       "FileUpload(value={}, accept='.gpx', description='Upload')"
      ]
     },
     "metadata": {},
     "output_type": "display_data"
    }
   ],
   "source": [
    "show_uploader()"
   ]
  },
  {
   "cell_type": "markdown",
   "metadata": {},
   "source": [
    "If you don't have a GPX file, try with one of the following examples:"
   ]
  },
  {
   "cell_type": "code",
   "execution_count": 49,
   "metadata": {},
   "outputs": [
    {
     "data": {
      "application/vnd.jupyter.widget-view+json": {
       "model_id": "908b5366c7974ea382158829e5bf28b2",
       "version_major": 2,
       "version_minor": 0
      },
      "text/plain": [
       "HBox(children=(Button(description='Chrissy Field Kitefoil', style=ButtonStyle()), Button(description='San Fran…"
      ]
     },
     "metadata": {},
     "output_type": "display_data"
    }
   ],
   "source": [
    "show_examples()"
   ]
  },
  {
   "cell_type": "code",
   "execution_count": 50,
   "metadata": {},
   "outputs": [],
   "source": [
    "def show_map(session):\n",
    "\n",
    "    def map_button():\n",
    "        @out.capture()\n",
    "        def map_button_clicked(change):\n",
    "            out.clear_output()\n",
    "            display(session.map())\n",
    "    \n",
    "        button = Button(description=\"Show Map\")\n",
    "        button.on_click(map_button_clicked)\n",
    "        return button\n",
    "\n",
    "    button = [map_button()]\n",
    "    line = HBox(button, layout=Layout(flex_flow='row', align_items='center'))\n",
    "    display(line)\n",
    "    \n"
   ]
  },
  {
   "cell_type": "code",
   "execution_count": 41,
   "metadata": {},
   "outputs": [
    {
     "data": {
      "application/vnd.jupyter.widget-view+json": {
       "model_id": "b8689704d08b43ea833e739c148acb2f",
       "version_major": 2,
       "version_minor": 0
      },
      "text/plain": [
       "HBox(children=(Button(description='Show Map', style=ButtonStyle()),), layout=Layout(align_items='center', flex…"
      ]
     },
     "metadata": {},
     "output_type": "display_data"
    }
   ],
   "source": [
    "show_map(session)"
   ]
  },
  {
   "cell_type": "code",
   "execution_count": 39,
   "metadata": {},
   "outputs": [],
   "source": [
    "# session.map()"
   ]
  },
  {
   "cell_type": "code",
   "execution_count": null,
   "metadata": {},
   "outputs": [],
   "source": []
  }
 ],
 "metadata": {
  "kernelspec": {
   "display_name": "Python 3 (ipykernel)",
   "language": "python",
   "name": "python3"
  },
  "language_info": {
   "codemirror_mode": {
    "name": "ipython",
    "version": 3
   },
   "file_extension": ".py",
   "mimetype": "text/x-python",
   "name": "python",
   "nbconvert_exporter": "python",
   "pygments_lexer": "ipython3",
   "version": "3.10.6"
  },
  "title": "GPX Viewer"
 },
 "nbformat": 4,
 "nbformat_minor": 4
}
