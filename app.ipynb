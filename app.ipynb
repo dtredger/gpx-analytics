{
 "cells": [
  {
   "cell_type": "markdown",
   "metadata": {},
   "source": [
    "# GPX Viewer\n",
    "\n",
    "This app lets you to display a track from a GPX file recorded with a GPS device.\n",
    "\n",
    "Built with [voila](https://github.com/QuantStack/voila), [ipyleaflet](https://github.com/jupyter-widgets/ipyleaflet), [bqplot](https://github.com/bloomberg/bqplot), [gpxpy](https://github.com/tkrajina/gpxpy)."
   ]
  },
  {
   "cell_type": "code",
   "execution_count": null,
   "metadata": {},
   "outputs": [],
   "source": [
    "import datetime\n",
    "import json\n",
    "from collections import defaultdict\n",
    "from io import StringIO\n",
    "from statistics import mean\n",
    "\n",
    "import gpxpy\n",
    "import srtm\n",
    "import pandas as pd\n",
    "\n",
    "from bqplot import Axis, Figure, Lines, LinearScale\n",
    "from bqplot.interacts import IndexSelector\n",
    "from ipyleaflet import FullScreenControl, Map, MeasureControl, Polyline, Marker, CircleMarker\n",
    "from ipywidgets import HTML, HBox, Label, Output, IntSlider, Layout"
   ]
  },
  {
   "cell_type": "code",
   "execution_count": null,
   "metadata": {},
   "outputs": [],
   "source": [
    "def parse_data(file):\n",
    "    gpx = gpxpy.parse(file)\n",
    "    elevation_data = srtm.get_data()\n",
    "    elevation_data.add_elevations(gpx, smooth=True)\n",
    "    return gpx"
   ]
  },
  {
   "cell_type": "code",
   "execution_count": null,
   "metadata": {},
   "outputs": [],
   "source": [
    "def plot_map(gpx):\n",
    "    points = [p.point for p in gpx.get_points_data(distance_2d=True)]\n",
    "    mean_lat = mean(p.latitude for p in points)\n",
    "    mean_lng = mean(p.longitude for p in points)\n",
    "\n",
    "    # create the map\n",
    "    m = Map(center=(mean_lat, mean_lng), zoom=10)\n",
    "\n",
    "    # show trace\n",
    "    line = Polyline(locations=[[[p.latitude, p.longitude] for p in points],],\n",
    "                    color = \"red\", fill=False)\n",
    "    m.add_layer(line)\n",
    "\n",
    "    # add markers\n",
    "    for point in gpx.waypoints:\n",
    "        lat, lng = point.latitude, point.longitude\n",
    "        marker = Marker(location=(lat, lng), title=point.name, popup=HTML(value=point.name), draggable=False)\n",
    "        m.add_layer(marker)\n",
    "\n",
    "    # enable full screen mode\n",
    "    m.add_control(FullScreenControl())\n",
    "        \n",
    "    # add measure control\n",
    "    measure = MeasureControl(\n",
    "        position='bottomleft',\n",
    "        active_color = 'orange',\n",
    "        primary_length_unit = 'kilometers'\n",
    "    )\n",
    "    m.add_control(measure)\n",
    "        \n",
    "    return m"
   ]
  },
  {
   "cell_type": "code",
   "execution_count": null,
   "metadata": {},
   "outputs": [],
   "source": [
    "def plot_stats(gpx):\n",
    "    lowest, highest = gpx.get_elevation_extremes()\n",
    "    uphill, downhill = gpx.get_uphill_downhill()\n",
    "    points = gpx.get_points_data(distance_2d=True)\n",
    "    \n",
    "    _, distance_from_start, *rest = points[-1]\n",
    "    \n",
    "    stats = defaultdict(list)\n",
    "    stats['Date'].append(gpx.get_time_bounds().start_time.strftime(\"%Y-%m-%d\"))\n",
    "    stats['Distance'].append(round(distance_from_start / 1000, 2))\n",
    "    stats['Duration'].append(str(datetime.timedelta(seconds=gpx.get_duration())))\n",
    "    stats['Lowest'].append(int(lowest))\n",
    "    stats['Highest'].append(int(highest))\n",
    "    stats['Uphill'].append(int(uphill))\n",
    "    stats['Downhill'].append(int(downhill))\n",
    "    \n",
    "    df = pd.DataFrame(\n",
    "        stats,\n",
    "        columns=['Date', 'Distance', 'Duration', 'Lowest', 'Highest', 'Uphill', 'Downhill']\n",
    "    )\n",
    "    \n",
    "    return HTML(value=df.to_html(index=False),\n",
    "               layout=Layout(width='100%', grid_area='header'))"
   ]
  },
  {
   "cell_type": "code",
   "execution_count": null,
   "metadata": {},
   "outputs": [],
   "source": [
    "def plot_elevation(gpx):\n",
    "    \"\"\"\n",
    "    Return an elevation graph for the given gpx trace\n",
    "    \"\"\"\n",
    "    points = gpx.get_points_data(distance_2d=True)\n",
    "    px = [p.distance_from_start / 1000 for p in points]\n",
    "    py = [p.point.elevation for p in points]\n",
    "    \n",
    "    x_scale, y_scale = LinearScale(), LinearScale()\n",
    "    x_ax = Axis(label='Distance (km)', scale=x_scale)\n",
    "    y_ax = Axis(label='Elevation (m)', scale=y_scale, orientation='vertical')\n",
    "    \n",
    "    lines = Lines(x=px, y=py, scales={'x': x_scale, 'y': y_scale})\n",
    "    \n",
    "    elevation = Figure(title='Elevation Chart', axes=[x_ax, y_ax], marks=[lines])\n",
    "    elevation.layout.width = 'auto'\n",
    "    elevation.layout.height = 'auto'\n",
    "    elevation.layout.min_height = '500px'\n",
    "\n",
    "    elevation.interaction = IndexSelector(scale=x_scale)\n",
    "    \n",
    "    return elevation"
   ]
  },
  {
   "cell_type": "code",
   "execution_count": null,
   "metadata": {},
   "outputs": [],
   "source": [
    "def link_trace_elevation(trace, elevation, gpx, debug):\n",
    "    \"\"\"\n",
    "    Link the trace the elevation graph.\n",
    "    Changing the selection on the elevation will update the\n",
    "    marker on the map\n",
    "    \"\"\"\n",
    "    points = gpx.get_points_data(distance_2d=True)\n",
    "    _, distance_from_start, *rest = points[-1]\n",
    "    n_points = len(points)\n",
    "    \n",
    "    def find_point(distance):\n",
    "        \"\"\"\n",
    "        Find a point given the distance\n",
    "        \"\"\"\n",
    "        progress = min(1, max(0, distance / distance_from_start))\n",
    "        position = int(progress * (n_points - 1))\n",
    "        return points[position].point\n",
    "    \n",
    "    # mark the current position on the map\n",
    "    start = find_point(0)\n",
    "    marker = CircleMarker(visible=False, location=(start.latitude, start.longitude),\n",
    "                          radius=10, color=\"green\", fill_color=\"green\")\n",
    "    trace.add_layer(marker)\n",
    "    \n",
    "    brushintsel = elevation.interaction\n",
    "    \n",
    "    def update_range(change):\n",
    "        \"\"\"\n",
    "        Update the position on the map when the elevation\n",
    "        graph selector changes\n",
    "        \"\"\"\n",
    "        if brushintsel.selected.shape != (1,):\n",
    "            return\n",
    "        marker.visible = True\n",
    "        selected = brushintsel.selected * 1000  # convert from km to m\n",
    "        point = find_point(selected)\n",
    "        marker.location = (point.latitude, point.longitude)\n",
    "        \n",
    "        position = max(0, int((selected / distance_from_start) * len(points)))\n",
    "        debug.value = str(position) + \" \" + str(distance_from_start)\n",
    "        \n",
    "    brushintsel.observe(update_range, 'selected')"
   ]
  },
  {
   "cell_type": "code",
   "execution_count": null,
   "metadata": {
    "scrolled": false
   },
   "outputs": [],
   "source": [
    "with open('./trace.gpx') as f:\n",
    "    gpx = parse_data(f)\n",
    "    \n",
    "    trace = plot_map(gpx)\n",
    "    elevation = plot_elevation(gpx)\n",
    "    debug = Label(value='')\n",
    "    \n",
    "    display(trace)\n",
    "    display(elevation)\n",
    "    display(debug)\n",
    "    \n",
    "    link_trace_elevation(trace, elevation, gpx, debug)"
   ]
  },
  {
   "cell_type": "code",
   "execution_count": null,
   "metadata": {},
   "outputs": [],
   "source": []
  },
  {
   "cell_type": "raw",
   "metadata": {},
   "source": [
    "uploader = FileUpload(\n",
    "           accept='.gpx',\n",
    "           multiple=False, \n",
    "           disabled=False,\n",
    "           style_button='color: darkblue; background-color: lightsalmon; width: 180px;',\n",
    "           compress_level=9\n",
    "          )\n",
    "\n",
    "uploader.observe(parse_files, names='value')"
   ]
  },
  {
   "cell_type": "raw",
   "metadata": {},
   "source": [
    "uploader"
   ]
  },
  {
   "cell_type": "raw",
   "metadata": {},
   "source": [
    "data_viewer"
   ]
  }
 ],
 "metadata": {
  "kernelspec": {
   "display_name": "Python 3",
   "language": "python",
   "name": "python3"
  },
  "language_info": {
   "codemirror_mode": {
    "name": "ipython",
    "version": 3
   },
   "file_extension": ".py",
   "mimetype": "text/x-python",
   "name": "python",
   "nbconvert_exporter": "python",
   "pygments_lexer": "ipython3",
   "version": "3.7.3"
  },
  "title": "GPX Viewer"
 },
 "nbformat": 4,
 "nbformat_minor": 4
}
