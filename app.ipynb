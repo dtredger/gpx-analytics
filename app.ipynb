{
 "cells": [
  {
   "cell_type": "markdown",
   "metadata": {
    "pycharm": {
     "name": "#%% md\n"
    }
   },
   "source": [
    "# GPX Viewer\n",
    "\n",
    "This app lets you to display a track from a GPX file recorded with a GPS device."
   ]
  },
  {
   "cell_type": "code",
   "execution_count": 1,
   "metadata": {
    "pycharm": {
     "name": "#%%\n"
    }
   },
   "outputs": [],
   "source": [
    "import sys, os\n",
    "from ipywidgets import Button, HTML, HBox, FileUpload, Label, Output, Layout, Image\n",
    "\n",
    "sys.path.append(os.getcwd() + '/src')\n",
    "import sailing_analytics\n",
    "import trail_mapping"
   ]
  },
  {
   "cell_type": "code",
   "execution_count": 2,
   "metadata": {
    "pycharm": {
     "name": "#%%\n"
    }
   },
   "outputs": [
    {
     "data": {
      "application/vnd.jupyter.widget-view+json": {
       "model_id": "f07ba8de31c747448aa43d418a36aa2b",
       "version_major": 2,
       "version_minor": 0
      },
      "text/plain": [
       "HBox(children=(Label(value='Powered by:'), Image(value=b'\\x89PNG\\r\\n\\x1a\\n\\x00\\x00\\x00\\rIHDR\\x00\\x00\\x00N\\x00\\…"
      ]
     },
     "metadata": {},
     "output_type": "display_data"
    }
   ],
   "source": [
    "tools = [\"voila\", \"ipyleaflet\", \"ipywidgets\", \"bqplot\"]\n",
    "logos = []\n",
    "for tool in tools:\n",
    "    with open(f'./img/{tool}.png', 'rb') as f:\n",
    "        image = f.read()\n",
    "    img = Image(value=image, format='png',layout=Layout(padding='10px'))\n",
    "    logos.append(img)\n",
    "HBox([Label(value='Powered by:')] + logos, layout=Layout(flex_flow='row', align_items='center'))"
   ]
  },
  {
   "cell_type": "code",
   "execution_count": 7,
   "metadata": {
    "pycharm": {
     "name": "#%%\n"
    }
   },
   "outputs": [],
   "source": [
    "\"\"\"\n",
    "create the output widget to place the results\n",
    "\"\"\"\n",
    "global out \n",
    "out = Output()\n",
    "\n",
    "out_bottom = Output()"
   ]
  },
  {
   "cell_type": "code",
   "execution_count": 8,
   "metadata": {
    "pycharm": {
     "name": "#%%\n"
    }
   },
   "outputs": [],
   "source": [
    "def show_uploader():\n",
    "    uploader = FileUpload(accept='.gpx', multiple=False)\n",
    "\n",
    "    def handle_upload(change):\n",
    "        # keep only the last file\n",
    "        # TODO: check if this should be fixed in FileUpload widget\n",
    "        # when multiple=False\n",
    "        *_, (_, f) = change['new'].items()\n",
    "        gpx_content = f['content'].decode('utf-8')\n",
    "        out.clear_output()\n",
    "        with StringIO(gpx_content) as gpx_file:\n",
    "            session = sailing_analytics.SailingSession(gpx_file)\n",
    "            with out_bottom:\n",
    "                show_map_polar_buttons(session, file=gpx_content)\n",
    "\n",
    "    uploader.observe(handle_upload, names='value')\n",
    "    display(uploader)"
   ]
  },
  {
   "cell_type": "code",
   "execution_count": 9,
   "metadata": {
    "pycharm": {
     "name": "#%%\n"
    }
   },
   "outputs": [],
   "source": [
    "def show_examples():\n",
    "    example_folder = \"./examples\"\n",
    "    examples = [f for f in os.listdir(example_folder) if f.endswith('.gpx')]\n",
    "    \n",
    "    def create_example(name):\n",
    "        filename = os.path.join(example_folder, name)\n",
    "        \n",
    "        @out.capture()\n",
    "        def on_example_clicked(change):\n",
    "            out.clear_output()\n",
    "            with out_bottom:\n",
    "                global session\n",
    "                session = sailing_analytics.SailingSession(filename)\n",
    "                show_map_polar_buttons(session, filename)\n",
    "                trail_mapping.plot_gpx(filename)\n",
    "    \n",
    "        button = Button(description=os.path.splitext(name)[0])\n",
    "        button.on_click(on_example_clicked)\n",
    "        return button\n",
    "    \n",
    "    buttons = [create_example(example) for example in examples]\n",
    "    line = HBox(buttons, layout=Layout(flex_flow='row', align_items='center'))\n",
    "    display(line)"
   ]
  },
  {
   "cell_type": "code",
   "execution_count": 10,
   "metadata": {
    "pycharm": {
     "name": "#%%\n"
    }
   },
   "outputs": [],
   "source": [
    "def show_map_polar_buttons(session, filename=\"\"):\n",
    "    def map_button():\n",
    "        @out.capture()\n",
    "        def map_button_clicked(change):\n",
    "            out.clear_output()\n",
    "            with out:\n",
    "                session.map()\n",
    "\n",
    "        button = Button(description=\"Show Map\")\n",
    "        button.on_click(map_button_clicked)\n",
    "        return button\n",
    "\n",
    "    def polar_button():\n",
    "        @out.capture()\n",
    "        def polar_button_clicked(change):\n",
    "            out.clear_output()\n",
    "            with out:\n",
    "                session.polar()\n",
    "\n",
    "        button = Button(description=\"Show Polar\")\n",
    "        button.on_click(polar_button_clicked)\n",
    "        return button\n",
    "    \n",
    "    def trail_button():\n",
    "        @out.capture()\n",
    "        def trail_button_clicked(change):\n",
    "            out.clear_output()\n",
    "            with out:\n",
    "                trail_mapping.plot_gpx(filename)\n",
    "\n",
    "        button = Button(description=\"Show Trail\")\n",
    "        button.on_click(trail_button_clicked)\n",
    "        return button\n",
    "\n",
    "    buttons = [map_button(), polar_button(), trail_button()]\n",
    "    line = HBox(buttons, layout=Layout(flex_flow='row', align_items='center'))\n",
    "    display(line)\n"
   ]
  },
  {
   "cell_type": "code",
   "execution_count": 11,
   "metadata": {
    "pycharm": {
     "name": "#%%\n"
    }
   },
   "outputs": [
    {
     "data": {
      "application/vnd.jupyter.widget-view+json": {
       "model_id": "25a26280372341c5a621b9660cf872cc",
       "version_major": 2,
       "version_minor": 0
      },
      "text/plain": [
       "Output()"
      ]
     },
     "metadata": {},
     "output_type": "display_data"
    }
   ],
   "source": [
    "out"
   ]
  },
  {
   "cell_type": "code",
   "execution_count": 13,
   "metadata": {
    "pycharm": {
     "name": "#%%\n"
    }
   },
   "outputs": [
    {
     "data": {
      "application/vnd.jupyter.widget-view+json": {
       "model_id": "89be8a9182914db0a8bf259bcaf9139a",
       "version_major": 2,
       "version_minor": 0
      },
      "text/plain": [
       "HBox(children=(Button(description='Chrissy Field Kitefoil', style=ButtonStyle()), Button(description='San Mate…"
      ]
     },
     "metadata": {},
     "output_type": "display_data"
    }
   ],
   "source": [
    "show_examples()"
   ]
  },
  {
   "cell_type": "markdown",
   "metadata": {
    "pycharm": {
     "name": "#%% md\n"
    }
   },
   "source": [
    "If you don't have a GPX file, try with one of the following examples:"
   ]
  },
  {
   "cell_type": "code",
   "execution_count": 14,
   "metadata": {
    "pycharm": {
     "name": "#%%\n"
    }
   },
   "outputs": [
    {
     "data": {
      "application/vnd.jupyter.widget-view+json": {
       "model_id": "66caf7d5f4044f25bb3225d15231949e",
       "version_major": 2,
       "version_minor": 0
      },
      "text/plain": [
       "FileUpload(value={}, accept='.gpx', description='Upload')"
      ]
     },
     "metadata": {},
     "output_type": "display_data"
    }
   ],
   "source": [
    "show_uploader()"
   ]
  },
  {
   "cell_type": "code",
   "execution_count": 15,
   "metadata": {},
   "outputs": [
    {
     "data": {
      "application/vnd.jupyter.widget-view+json": {
       "model_id": "8a761ae9541f4e4693aba77b0550918a",
       "version_major": 2,
       "version_minor": 0
      },
      "text/plain": [
       "Output(outputs=({'output_type': 'display_data', 'data': {'text/plain': \"HBox(children=(Button(description='Sho…"
      ]
     },
     "metadata": {},
     "output_type": "display_data"
    }
   ],
   "source": [
    "out_bottom"
   ]
  },
  {
   "cell_type": "code",
   "execution_count": 19,
   "metadata": {},
   "outputs": [
    {
     "data": {
      "text/html": [
       "<div>\n",
       "<style scoped>\n",
       "    .dataframe tbody tr th:only-of-type {\n",
       "        vertical-align: middle;\n",
       "    }\n",
       "\n",
       "    .dataframe tbody tr th {\n",
       "        vertical-align: top;\n",
       "    }\n",
       "\n",
       "    .dataframe thead th {\n",
       "        text-align: right;\n",
       "    }\n",
       "</style>\n",
       "<table border=\"1\" class=\"dataframe\">\n",
       "  <thead>\n",
       "    <tr style=\"text-align: right;\">\n",
       "      <th></th>\n",
       "      <th>lon</th>\n",
       "      <th>lat</th>\n",
       "      <th>alt</th>\n",
       "      <th>time</th>\n",
       "      <th>distance_step</th>\n",
       "      <th>distance_cumulative</th>\n",
       "      <th>time_diff</th>\n",
       "      <th>time_elapsed_sec</th>\n",
       "      <th>bearing</th>\n",
       "      <th>speed_ms</th>\n",
       "      <th>speed_kts</th>\n",
       "      <th>speed_kts_capped</th>\n",
       "      <th>vmg_ms</th>\n",
       "      <th>vmg_kts</th>\n",
       "      <th>upwind</th>\n",
       "      <th>tack_raw</th>\n",
       "      <th>is_moving</th>\n",
       "      <th>tack</th>\n",
       "      <th>segment</th>\n",
       "    </tr>\n",
       "  </thead>\n",
       "  <tbody>\n",
       "    <tr>\n",
       "      <th>0</th>\n",
       "      <td>-79.337713</td>\n",
       "      <td>43.637683</td>\n",
       "      <td>69.354797</td>\n",
       "      <td>2022-09-06 18:38:08-04:00</td>\n",
       "      <td>0.000000</td>\n",
       "      <td>0.000000</td>\n",
       "      <td>1.0</td>\n",
       "      <td>0.0</td>\n",
       "      <td>0.000000</td>\n",
       "      <td>0.000000</td>\n",
       "      <td>0.000000</td>\n",
       "      <td>0.000000</td>\n",
       "      <td>-0.000000</td>\n",
       "      <td>-0.000000</td>\n",
       "      <td>0.0</td>\n",
       "      <td>1</td>\n",
       "      <td>1.0</td>\n",
       "      <td>1.0</td>\n",
       "      <td>1.0</td>\n",
       "    </tr>\n",
       "    <tr>\n",
       "      <th>1</th>\n",
       "      <td>-79.337727</td>\n",
       "      <td>43.637763</td>\n",
       "      <td>75.661343</td>\n",
       "      <td>2022-09-06 18:38:09-04:00</td>\n",
       "      <td>8.976909</td>\n",
       "      <td>8.976909</td>\n",
       "      <td>1.0</td>\n",
       "      <td>1.0</td>\n",
       "      <td>352.666658</td>\n",
       "      <td>8.976909</td>\n",
       "      <td>17.449675</td>\n",
       "      <td>15.000000</td>\n",
       "      <td>-1.815287</td>\n",
       "      <td>-3.528628</td>\n",
       "      <td>-1.0</td>\n",
       "      <td>1</td>\n",
       "      <td>1.0</td>\n",
       "      <td>1.0</td>\n",
       "      <td>1.0</td>\n",
       "    </tr>\n",
       "    <tr>\n",
       "      <th>2</th>\n",
       "      <td>-79.337704</td>\n",
       "      <td>43.637795</td>\n",
       "      <td>75.713284</td>\n",
       "      <td>2022-09-06 18:38:10-04:00</td>\n",
       "      <td>3.984548</td>\n",
       "      <td>12.961457</td>\n",
       "      <td>1.0</td>\n",
       "      <td>2.0</td>\n",
       "      <td>27.853232</td>\n",
       "      <td>3.984548</td>\n",
       "      <td>7.745324</td>\n",
       "      <td>7.745324</td>\n",
       "      <td>-2.907144</td>\n",
       "      <td>-5.651022</td>\n",
       "      <td>-1.0</td>\n",
       "      <td>1</td>\n",
       "      <td>1.0</td>\n",
       "      <td>1.0</td>\n",
       "      <td>1.0</td>\n",
       "    </tr>\n",
       "    <tr>\n",
       "      <th>3</th>\n",
       "      <td>-79.337675</td>\n",
       "      <td>43.637761</td>\n",
       "      <td>75.604336</td>\n",
       "      <td>2022-09-06 18:38:11-04:00</td>\n",
       "      <td>4.388424</td>\n",
       "      <td>17.349881</td>\n",
       "      <td>1.0</td>\n",
       "      <td>3.0</td>\n",
       "      <td>148.176776</td>\n",
       "      <td>4.388424</td>\n",
       "      <td>8.530393</td>\n",
       "      <td>8.530393</td>\n",
       "      <td>-0.973983</td>\n",
       "      <td>-1.893267</td>\n",
       "      <td>-1.0</td>\n",
       "      <td>-1</td>\n",
       "      <td>1.0</td>\n",
       "      <td>1.0</td>\n",
       "      <td>1.0</td>\n",
       "    </tr>\n",
       "    <tr>\n",
       "      <th>4</th>\n",
       "      <td>-79.337701</td>\n",
       "      <td>43.637731</td>\n",
       "      <td>76.013088</td>\n",
       "      <td>2022-09-06 18:38:13-04:00</td>\n",
       "      <td>3.972911</td>\n",
       "      <td>21.322792</td>\n",
       "      <td>2.0</td>\n",
       "      <td>5.0</td>\n",
       "      <td>212.107829</td>\n",
       "      <td>1.986455</td>\n",
       "      <td>3.861351</td>\n",
       "      <td>3.861351</td>\n",
       "      <td>1.546116</td>\n",
       "      <td>3.005402</td>\n",
       "      <td>1.0</td>\n",
       "      <td>-1</td>\n",
       "      <td>1.0</td>\n",
       "      <td>1.0</td>\n",
       "      <td>1.0</td>\n",
       "    </tr>\n",
       "    <tr>\n",
       "      <th>...</th>\n",
       "      <td>...</td>\n",
       "      <td>...</td>\n",
       "      <td>...</td>\n",
       "      <td>...</td>\n",
       "      <td>...</td>\n",
       "      <td>...</td>\n",
       "      <td>...</td>\n",
       "      <td>...</td>\n",
       "      <td>...</td>\n",
       "      <td>...</td>\n",
       "      <td>...</td>\n",
       "      <td>...</td>\n",
       "      <td>...</td>\n",
       "      <td>...</td>\n",
       "      <td>...</td>\n",
       "      <td>...</td>\n",
       "      <td>...</td>\n",
       "      <td>...</td>\n",
       "      <td>...</td>\n",
       "    </tr>\n",
       "    <tr>\n",
       "      <th>1063</th>\n",
       "      <td>-79.337052</td>\n",
       "      <td>43.641233</td>\n",
       "      <td>79.056973</td>\n",
       "      <td>2022-09-06 19:33:15-04:00</td>\n",
       "      <td>2.613834</td>\n",
       "      <td>2951.278402</td>\n",
       "      <td>2.0</td>\n",
       "      <td>3307.0</td>\n",
       "      <td>352.890396</td>\n",
       "      <td>1.306917</td>\n",
       "      <td>2.540438</td>\n",
       "      <td>2.540438</td>\n",
       "      <td>-0.269277</td>\n",
       "      <td>-0.523432</td>\n",
       "      <td>-1.0</td>\n",
       "      <td>1</td>\n",
       "      <td>1.0</td>\n",
       "      <td>1.0</td>\n",
       "      <td>15.0</td>\n",
       "    </tr>\n",
       "    <tr>\n",
       "      <th>1064</th>\n",
       "      <td>-79.337045</td>\n",
       "      <td>43.641261</td>\n",
       "      <td>78.463711</td>\n",
       "      <td>2022-09-06 19:33:17-04:00</td>\n",
       "      <td>3.183882</td>\n",
       "      <td>2954.462283</td>\n",
       "      <td>2.0</td>\n",
       "      <td>3309.0</td>\n",
       "      <td>11.478473</td>\n",
       "      <td>1.591941</td>\n",
       "      <td>3.094478</td>\n",
       "      <td>3.094478</td>\n",
       "      <td>-0.807456</td>\n",
       "      <td>-1.569565</td>\n",
       "      <td>-1.0</td>\n",
       "      <td>1</td>\n",
       "      <td>1.0</td>\n",
       "      <td>1.0</td>\n",
       "      <td>15.0</td>\n",
       "    </tr>\n",
       "    <tr>\n",
       "      <th>1065</th>\n",
       "      <td>-79.337027</td>\n",
       "      <td>43.641276</td>\n",
       "      <td>78.532009</td>\n",
       "      <td>2022-09-06 19:33:18-04:00</td>\n",
       "      <td>2.204099</td>\n",
       "      <td>2956.666383</td>\n",
       "      <td>1.0</td>\n",
       "      <td>3310.0</td>\n",
       "      <td>40.944872</td>\n",
       "      <td>2.204099</td>\n",
       "      <td>4.284416</td>\n",
       "      <td>4.284416</td>\n",
       "      <td>-1.907745</td>\n",
       "      <td>-3.708351</td>\n",
       "      <td>-1.0</td>\n",
       "      <td>1</td>\n",
       "      <td>1.0</td>\n",
       "      <td>1.0</td>\n",
       "      <td>15.0</td>\n",
       "    </tr>\n",
       "    <tr>\n",
       "      <th>1066</th>\n",
       "      <td>-79.337023</td>\n",
       "      <td>43.641297</td>\n",
       "      <td>77.820400</td>\n",
       "      <td>2022-09-06 19:33:20-04:00</td>\n",
       "      <td>2.356362</td>\n",
       "      <td>2959.022745</td>\n",
       "      <td>2.0</td>\n",
       "      <td>3312.0</td>\n",
       "      <td>7.229883</td>\n",
       "      <td>1.178181</td>\n",
       "      <td>2.290195</td>\n",
       "      <td>2.290195</td>\n",
       "      <td>-0.520725</td>\n",
       "      <td>-1.012206</td>\n",
       "      <td>-1.0</td>\n",
       "      <td>1</td>\n",
       "      <td>1.0</td>\n",
       "      <td>1.0</td>\n",
       "      <td>15.0</td>\n",
       "    </tr>\n",
       "    <tr>\n",
       "      <th>1067</th>\n",
       "      <td>-79.337055</td>\n",
       "      <td>43.641297</td>\n",
       "      <td>77.186611</td>\n",
       "      <td>2022-09-06 19:33:34-04:00</td>\n",
       "      <td>2.597064</td>\n",
       "      <td>2961.619808</td>\n",
       "      <td>14.0</td>\n",
       "      <td>3326.0</td>\n",
       "      <td>270.103101</td>\n",
       "      <td>0.185505</td>\n",
       "      <td>0.360591</td>\n",
       "      <td>0.360591</td>\n",
       "      <td>0.175289</td>\n",
       "      <td>0.340734</td>\n",
       "      <td>1.0</td>\n",
       "      <td>1</td>\n",
       "      <td>1.0</td>\n",
       "      <td>1.0</td>\n",
       "      <td>15.0</td>\n",
       "    </tr>\n",
       "  </tbody>\n",
       "</table>\n",
       "<p>1068 rows × 19 columns</p>\n",
       "</div>"
      ],
      "text/plain": [
       "            lon        lat        alt                      time  \\\n",
       "0    -79.337713  43.637683  69.354797 2022-09-06 18:38:08-04:00   \n",
       "1    -79.337727  43.637763  75.661343 2022-09-06 18:38:09-04:00   \n",
       "2    -79.337704  43.637795  75.713284 2022-09-06 18:38:10-04:00   \n",
       "3    -79.337675  43.637761  75.604336 2022-09-06 18:38:11-04:00   \n",
       "4    -79.337701  43.637731  76.013088 2022-09-06 18:38:13-04:00   \n",
       "...         ...        ...        ...                       ...   \n",
       "1063 -79.337052  43.641233  79.056973 2022-09-06 19:33:15-04:00   \n",
       "1064 -79.337045  43.641261  78.463711 2022-09-06 19:33:17-04:00   \n",
       "1065 -79.337027  43.641276  78.532009 2022-09-06 19:33:18-04:00   \n",
       "1066 -79.337023  43.641297  77.820400 2022-09-06 19:33:20-04:00   \n",
       "1067 -79.337055  43.641297  77.186611 2022-09-06 19:33:34-04:00   \n",
       "\n",
       "      distance_step  distance_cumulative  time_diff  time_elapsed_sec  \\\n",
       "0          0.000000             0.000000        1.0               0.0   \n",
       "1          8.976909             8.976909        1.0               1.0   \n",
       "2          3.984548            12.961457        1.0               2.0   \n",
       "3          4.388424            17.349881        1.0               3.0   \n",
       "4          3.972911            21.322792        2.0               5.0   \n",
       "...             ...                  ...        ...               ...   \n",
       "1063       2.613834          2951.278402        2.0            3307.0   \n",
       "1064       3.183882          2954.462283        2.0            3309.0   \n",
       "1065       2.204099          2956.666383        1.0            3310.0   \n",
       "1066       2.356362          2959.022745        2.0            3312.0   \n",
       "1067       2.597064          2961.619808       14.0            3326.0   \n",
       "\n",
       "         bearing  speed_ms  speed_kts  speed_kts_capped    vmg_ms   vmg_kts  \\\n",
       "0       0.000000  0.000000   0.000000          0.000000 -0.000000 -0.000000   \n",
       "1     352.666658  8.976909  17.449675         15.000000 -1.815287 -3.528628   \n",
       "2      27.853232  3.984548   7.745324          7.745324 -2.907144 -5.651022   \n",
       "3     148.176776  4.388424   8.530393          8.530393 -0.973983 -1.893267   \n",
       "4     212.107829  1.986455   3.861351          3.861351  1.546116  3.005402   \n",
       "...          ...       ...        ...               ...       ...       ...   \n",
       "1063  352.890396  1.306917   2.540438          2.540438 -0.269277 -0.523432   \n",
       "1064   11.478473  1.591941   3.094478          3.094478 -0.807456 -1.569565   \n",
       "1065   40.944872  2.204099   4.284416          4.284416 -1.907745 -3.708351   \n",
       "1066    7.229883  1.178181   2.290195          2.290195 -0.520725 -1.012206   \n",
       "1067  270.103101  0.185505   0.360591          0.360591  0.175289  0.340734   \n",
       "\n",
       "      upwind  tack_raw  is_moving  tack  segment  \n",
       "0        0.0         1        1.0   1.0      1.0  \n",
       "1       -1.0         1        1.0   1.0      1.0  \n",
       "2       -1.0         1        1.0   1.0      1.0  \n",
       "3       -1.0        -1        1.0   1.0      1.0  \n",
       "4        1.0        -1        1.0   1.0      1.0  \n",
       "...      ...       ...        ...   ...      ...  \n",
       "1063    -1.0         1        1.0   1.0     15.0  \n",
       "1064    -1.0         1        1.0   1.0     15.0  \n",
       "1065    -1.0         1        1.0   1.0     15.0  \n",
       "1066    -1.0         1        1.0   1.0     15.0  \n",
       "1067     1.0         1        1.0   1.0     15.0  \n",
       "\n",
       "[1068 rows x 19 columns]"
      ]
     },
     "execution_count": 19,
     "metadata": {},
     "output_type": "execute_result"
    }
   ],
   "source": [
    "session.df"
   ]
  },
  {
   "cell_type": "code",
   "execution_count": 35,
   "metadata": {},
   "outputs": [
    {
     "data": {
      "text/plain": [
       "[GPXTrackPoint(43.637682991142974, -79.33771289892432, elevation=69.35479736328125, time=datetime.datetime(2022, 9, 6, 22, 38, 8, tzinfo=SimpleTZ(\"Z\"))),\n",
       " GPXTrackPoint(43.637763122137294, -79.33772714815971, elevation=75.66134262084961, time=datetime.datetime(2022, 9, 6, 22, 38, 9, tzinfo=SimpleTZ(\"Z\"))),\n",
       " GPXTrackPoint(43.63779480573128, -79.33770401410696, elevation=75.71328353881836, time=datetime.datetime(2022, 9, 6, 22, 38, 10, tzinfo=SimpleTZ(\"Z\")))]"
      ]
     },
     "execution_count": 35,
     "metadata": {},
     "output_type": "execute_result"
    }
   ],
   "source": [
    "(session.get_gpx_points_list(session.gpx)[0])[0:3]"
   ]
  },
  {
   "cell_type": "code",
   "execution_count": 36,
   "metadata": {},
   "outputs": [
    {
     "data": {
      "text/plain": [
       "[[-79.33771289892432,\n",
       "  43.637682991142974,\n",
       "  69.35479736328125,\n",
       "  datetime.datetime(2022, 9, 6, 18, 38, 8, tzinfo=<DstTzInfo 'US/Eastern' EDT-1 day, 20:00:00 DST>)],\n",
       " [-79.33772714815971,\n",
       "  43.637763122137294,\n",
       "  75.66134262084961,\n",
       "  datetime.datetime(2022, 9, 6, 18, 38, 9, tzinfo=<DstTzInfo 'US/Eastern' EDT-1 day, 20:00:00 DST>)],\n",
       " [-79.33770401410696,\n",
       "  43.63779480573128,\n",
       "  75.71328353881836,\n",
       "  datetime.datetime(2022, 9, 6, 18, 38, 10, tzinfo=<DstTzInfo 'US/Eastern' EDT-1 day, 20:00:00 DST>)]]"
      ]
     },
     "execution_count": 36,
     "metadata": {},
     "output_type": "execute_result"
    }
   ],
   "source": [
    "(session.get_gpx_points_list(session.gpx)[1])[0:3]"
   ]
  },
  {
   "cell_type": "code",
   "execution_count": null,
   "metadata": {},
   "outputs": [],
   "source": []
  }
 ],
 "metadata": {
  "kernelspec": {
   "display_name": "Python 3 (ipykernel)",
   "language": "python",
   "name": "python3"
  },
  "language_info": {
   "codemirror_mode": {
    "name": "ipython",
    "version": 3
   },
   "file_extension": ".py",
   "mimetype": "text/x-python",
   "name": "python",
   "nbconvert_exporter": "python",
   "pygments_lexer": "ipython3",
   "version": "3.10.5"
  },
  "title": "GPX Viewer"
 },
 "nbformat": 4,
 "nbformat_minor": 4
}
