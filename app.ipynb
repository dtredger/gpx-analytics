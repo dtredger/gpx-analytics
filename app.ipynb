{
 "cells": [
  {
   "cell_type": "markdown",
   "metadata": {},
   "source": [
    "# GPX Viewer"
   ]
  },
  {
   "cell_type": "code",
   "execution_count": null,
   "metadata": {},
   "outputs": [],
   "source": [
    "import json\n",
    "from statistics import mean\n",
    "\n",
    "import gpxpy\n",
    "import srtm\n",
    "\n",
    "from ipyleaflet import Map, Polyline, Marker\n",
    "from ipyupload import FileUpload \n",
    "from ipywidgets import HTML, Output, IntSlider"
   ]
  },
  {
   "cell_type": "code",
   "execution_count": null,
   "metadata": {},
   "outputs": [],
   "source": [
    "def parse_data(file):\n",
    "    gpx = gpxpy.parse(file)\n",
    "    elevation_data = srtm.get_data()\n",
    "    elevation_data.add_elevations(gpx, smooth=True)\n",
    "    return gpx"
   ]
  },
  {
   "cell_type": "code",
   "execution_count": null,
   "metadata": {},
   "outputs": [],
   "source": [
    "out = Output()"
   ]
  },
  {
   "cell_type": "code",
   "execution_count": null,
   "metadata": {
    "scrolled": false
   },
   "outputs": [],
   "source": [
    "@out.capture()\n",
    "def plot_map(gpx):\n",
    "    points = [p.point for p in gpx.get_points_data()]\n",
    "    mean_lat = mean(p.latitude for p in points)\n",
    "    mean_lng = mean(p.longitude for p in points)\n",
    "\n",
    "    # create map\n",
    "    m = Map(center=(mean_lat, mean_lng), zoom=15)\n",
    "\n",
    "    # show trace\n",
    "    line = Polyline(locations=[[[p.latitude, p.longitude] for p in points],],\n",
    "                    color = \"red\", fill=False)\n",
    "    m.add_layer(line)\n",
    "\n",
    "    # add markers\n",
    "    for point in gpx.waypoints:\n",
    "        lat, lng = point.latitude, point.longitude\n",
    "        marker = Marker(location=(lat, lng), title=point.name, popup=HTML(value=point.name), draggable=False)\n",
    "        m.add_layer(marker);\n",
    "\n",
    "    display(m)"
   ]
  },
  {
   "cell_type": "code",
   "execution_count": null,
   "metadata": {},
   "outputs": [],
   "source": [
    "@out.capture()\n",
    "def parse_files(change):\n",
    "    # unpack data\n",
    "    all_files = [v for _, v in change['new'].items()]\n",
    "    from io import StringIO\n",
    "    raw = all_files[0]['content'].decode('utf-8')\n",
    "    with StringIO(raw) as f:\n",
    "        gpx = parse_data(f)\n",
    "    \n",
    "    print(gpx.name)\n",
    "    plot_map(gpx)"
   ]
  },
  {
   "cell_type": "code",
   "execution_count": null,
   "metadata": {},
   "outputs": [],
   "source": [
    "uploader = FileUpload(accept=None,\n",
    "               multiple=False, \n",
    "               disabled=False,\n",
    "               style_button='color: darkblue; background-color: lightsalmon; width: 180px;',\n",
    "               compress_level=9\n",
    "              )\n",
    "\n",
    "uploader.observe(parse_files, names='value')"
   ]
  },
  {
   "cell_type": "code",
   "execution_count": null,
   "metadata": {},
   "outputs": [],
   "source": [
    "with out:\n",
    "    display(uploader)\n",
    "out"
   ]
  }
 ],
 "metadata": {
  "kernelspec": {
   "display_name": "Python 3",
   "language": "python",
   "name": "python3"
  },
  "language_info": {
   "codemirror_mode": {
    "name": "ipython",
    "version": 3
   },
   "file_extension": ".py",
   "mimetype": "text/x-python",
   "name": "python",
   "nbconvert_exporter": "python",
   "pygments_lexer": "ipython3",
   "version": "3.7.3"
  },
  "title": "GPX Viewer"
 },
 "nbformat": 4,
 "nbformat_minor": 2
}
