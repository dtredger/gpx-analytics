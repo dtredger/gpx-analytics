{
 "cells": [
  {
   "cell_type": "code",
   "execution_count": 126,
   "id": "6b82ac2c-44cf-4f4b-9e41-264c83c429bc",
   "metadata": {},
   "outputs": [
    {
     "name": "stdout",
     "output_type": "stream",
     "text": [
      "add_distances elapsed: 10.270689964294434 s.\n",
      "add_time_steps elapsed: 3.314664840698242 s.\n",
      "cog already present in dataframe.\n",
      "sog_kts already present in dataframe.\n",
      "calculated wind_dir as 65\n"
     ]
    }
   ],
   "source": [
    "import sys, os\n",
    "import ipywidgets as widgets\n",
    "from ipywidgets import Button, HTML, HBox, FileUpload, Label, Output, Layout, Image\n",
    "\n",
    "sys.path.append(os.getcwd() + '/src')\n",
    "from sailing_session import SailingSession\n",
    "from sailing_graphs import *\n",
    "\n",
    "\n",
    "session=SailingSession('examples/friday_night_races/FNR 2023-06-30 (4th).csv')\n",
    "# session = SailingSession('examples/Harbourmaster June 25 (crew 11, 15)-2023-06-25.csv')#\n",
    "# session=SailingSession('examples/friday_night_races/FNR 2023-06-23 (3rd).csv', params={'wind_dir': 60}) #20k pts\n",
    "# session = SailingSession('examples/Albacore-tuesday-night-2022-09-06.gpx') # 1k pts"
   ]
  },
  {
   "cell_type": "code",
   "execution_count": 20,
   "id": "875cc0c3-4dec-4ec8-8f37-63a93856fe6a",
   "metadata": {
    "tags": []
   },
   "outputs": [
    {
     "data": {
      "application/vnd.jupyter.widget-view+json": {
       "model_id": "83ad0d8be85e4e4d81a3eb71f3986092",
       "version_major": 2,
       "version_minor": 0
      },
      "text/plain": [
       "HBox(children=(VBox(children=(IntRangeSlider(value=(0, 13453), continuous_update=False, description='Points in…"
      ]
     },
     "metadata": {},
     "output_type": "display_data"
    }
   ],
   "source": [
    "slide = widgets.IntRangeSlider(\n",
    "    value=[0, len(session.df) - 1],\n",
    "    min=0,\n",
    "    max=len(session.df) - 1,\n",
    "    step=1,\n",
    "    description='Points included:',\n",
    "    disabled=False,\n",
    "    continuous_update=False,\n",
    "    orientation='horizontal',\n",
    "    readout=True,\n",
    "    readout_format='d'\n",
    ")\n",
    "\n",
    "def callback(slide):\n",
    "    session.filtered_df = session.df[slide[0]:slide[1]]\n",
    "    print(f\"start: {session.filtered_df.iloc[0].timestamp.strftime('%X')}\")\n",
    "    print(f\"end: {session.filtered_df.iloc[-1].timestamp.strftime('%X')}\")\n",
    "\n",
    "\n",
    "out = widgets.interactive_output(callback, {'slide': slide})\n",
    "widgets.HBox([widgets.VBox([slide]), out])\n"
   ]
  },
  {
   "cell_type": "markdown",
   "id": "c7029e0c-7656-4eb4-9898-7d56e4fb0996",
   "metadata": {},
   "source": [
    "### Course over Ground\n",
    "\n",
    "Display a Violin Plot with every Course over Ground reading, organized into segments (segments are separated by a tack/gybe).\n",
    "(For segments that include both upwind/downwind, a segment will include both colours)\n",
    "\n",
    "The thickness of each violin corresponds to the number of points at that specific COG.\n",
    "Use the slider to filter out the displayed segments."
   ]
  },
  {
   "cell_type": "code",
   "execution_count": 31,
   "id": "acd039a3-a84b-4197-b990-67dc80e081fd",
   "metadata": {},
   "outputs": [
    {
     "data": {
      "application/vnd.jupyter.widget-view+json": {
       "model_id": "5fe9706a199d44d9b68f257a50385931",
       "version_major": 2,
       "version_minor": 0
      },
      "text/plain": [
       "HBox(children=(IntRangeSlider(value=(0, 47), continuous_update=False, description='Segments:', max=47), Output…"
      ]
     },
     "metadata": {},
     "output_type": "display_data"
    },
    {
     "data": {
      "application/vnd.jupyter.widget-view+json": {
       "model_id": "46ed0afab93f41eab6cbf601444b1b71",
       "version_major": 2,
       "version_minor": 0
      },
      "text/plain": [
       "HBox(children=(Output(),))"
      ]
     },
     "metadata": {},
     "output_type": "display_data"
    }
   ],
   "source": [
    "# Create a slider to pick which Segments to display in the graph (too many to display well)\n",
    "segment_slider = widgets.IntRangeSlider(\n",
    "    value=[0, len(session.df) - 1],\n",
    "    min=0,\n",
    "    max=session.df.iloc[-1].segment,\n",
    "    step=1,\n",
    "    description='Segments:',\n",
    "    disabled=False,\n",
    "    continuous_update=False,\n",
    "    orientation='horizontal',\n",
    "    readout=True,\n",
    "    readout_format='d'\n",
    ")\n",
    "\n",
    "def slide_callback(segment_slider):\n",
    "    start = segment_slider[0]\n",
    "    end = segment_slider[1]\n",
    "    session.filtered_df = session.df[(session.df['segment'] >= start) & \n",
    "                                     (session.df['segment'] <= end) ]\n",
    "    \n",
    "selected_segs = widgets.interactive_output(slide_callback, {'segment_slider': segment_slider})\n",
    "\n",
    "v_output = widgets.Output()\n",
    "button = Button(description='Filter Graph')\n",
    "\n",
    "def on_button_clicked(b):\n",
    "    with v_output:\n",
    "        v_output.clear_output()\n",
    "        seaborn_violin(session)\n",
    "        \n",
    "button.on_click(on_button_clicked)\n",
    "\n",
    "on_button_clicked(False)\n",
    "\n",
    "display(HBox([segment_slider, selected_segs, button]),\n",
    "        HBox([v_output])) \n",
    "\n"
   ]
  },
  {
   "cell_type": "code",
   "execution_count": 9,
   "id": "cddd3f4d-1af5-4e90-ac46-33dc7a53101f",
   "metadata": {},
   "outputs": [],
   "source": [
    "# import numpy\n",
    "\n",
    "# def calculate_vmg_target_speed(min_twa, max_twa, target_speed=10):\n",
    "#     twa_obj = {}\n",
    "#     for twa_deg in range(min_twa, max_twa+1):\n",
    "#         twa_rad = numpy.deg2rad(twa_deg)\n",
    "#         extra_distance = round(numpy.abs(numpy.cos(twa_rad)**-1)*100, 2)\n",
    "#         print(f\"at TWA {twa_deg} you sail {extra_distance}% distance.\")\n",
    "#         twa_obj[twa_deg] = extra_distance\n",
    "\n",
    "#     print(f\"target_speed {target_speed}\")\n",
    "#     for twa_deg in twa_obj:\n",
    "#         req_speed = round((twa_obj[twa_deg]/100) * target_speed, 2)\n",
    "#         print(f\"at {twa_deg}º speed must be {req_speed}\")\n",
    "\n",
    "\n",
    "\n",
    "# calculate_vmg_target_speed(40,50, 5.5)\n",
    "\n",
    "# # ((143.96/141.42)*100)-100 (1.8% extra bearing off from 45º to 46º)\n",
    "\n",
    "\n",
    "# # upwind mark = 43.63696,-79.36053"
   ]
  },
  {
   "cell_type": "code",
   "execution_count": 219,
   "id": "e50fd20e-65ca-423a-9989-049e2cd424dd",
   "metadata": {},
   "outputs": [],
   "source": [
    "import numpy as np\n",
    "import pandas as pd\n",
    "import matplotlib.pyplot as plt\n",
    "\n",
    "import plotly.express as px\n",
    "import plotly.graph_objects as go\n",
    "\n",
    "from ipywidgets import Button, HTML, HBox, VBox, Checkbox, FileUpload, Label, Output, IntSlider, Layout, Image, link\n",
    "from ipyleaflet import basemaps, FullScreenControl, LayerGroup, Map, MeasureControl, Polyline, Marker, CircleMarker, WidgetControl, AntPath\n",
    "\n",
    "from bqplot import Axis, Figure, Lines, LinearScale, DateScale\n",
    "from bqplot.interacts import IndexSelector\n",
    "\n",
    "import seaborn as sns\n",
    "\n",
    "\"\"\"\n",
    "Methods available for charting are:\n",
    "    - render_polar\n",
    "    - ipyleaflet_chart\n",
    "    - bqplot_graph\n",
    "    - link_chart_graph\n",
    "    - seaborn_violin\n",
    "    - [deprecated] render_plotly_speed_graph\n",
    "    - [deprecated] render_mapbox_chart\n",
    "\"\"\"\n",
    "\n",
    "\n",
    "def ipyleaflet_chart(session):\n",
    "    \"\"\"\n",
    "    Plot the GPS trace on an ipyleaflet map.\n",
    "    Include waypoints if provided.\n",
    "\n",
    "    Colours will be separated by tack. Dashed lines (AntPath) for downwind\n",
    "    \"\"\"\n",
    "    lat_lng_pts = session.filtered_df[['latitude', 'longitude', 'upwind', 'tack']].values\n",
    "    mean_lat = session.filtered_df.median(numeric_only=True).latitude\n",
    "    mean_lng = session.filtered_df.median(numeric_only=True).longitude\n",
    "\n",
    "    # create the map\n",
    "    m = Map(center=(mean_lat, mean_lng), \n",
    "            zoom=15, \n",
    "            basemap=basemaps.CartoDB.Positron) #Stamen.Terrain)\n",
    "\n",
    "    \n",
    "    segments = {}\n",
    "    for x in range(int(session.filtered_df.iloc[1].segment), int(session.filtered_df.iloc[-1].segment)+1):\n",
    "        segments[x] = []\n",
    "\n",
    "    for ix, row in session.filtered_df.iterrows():\n",
    "        segments[row.segment] += [[row.latitude, row.longitude]]\n",
    "        \n",
    "    for seg_key in segments:\n",
    "        first_row = session.df[session.df['segment'] == seg_key].iloc[0] \n",
    "        # tacks are indicated by 1 / -1 for port / stbd\n",
    "        seg_colour = 'red' if first_row.tack > 0 else 'green'\n",
    "        \n",
    "        # upwind/dwn \n",
    "        if first_row.upwind:\n",
    "            line = Polyline(locations=segments[seg_key], color = seg_colour, fill=False, weight=1)\n",
    "        else:  \n",
    "            line = AntPath(locations=segments[seg_key], color = seg_colour, \n",
    "                             fill=False, weight=1, paused=True)\n",
    "        m.add_layer(line)\n",
    "    \n",
    "    \n",
    "    \n",
    "    \n",
    "    # add markers\n",
    "    waypoints = []\n",
    "    \n",
    "    # session.tacks (and gybes) contain the index of the first point\n",
    "    # on the new tack.\n",
    "    # Use reddish for stbd-> port\n",
    "    # greenish for port->stbd\n",
    "    def transition_colour(tack):\n",
    "        reddish = '#f56042'\n",
    "        greenish = '#36e036'\n",
    "        return greenish if tack > 0 else reddish\n",
    "    \n",
    "    \n",
    "    for ix in session.tacks:\n",
    "        if ix in session.filtered_df.index:\n",
    "            marker = CircleMarker(location=(session.filtered_df.loc[ix].latitude, \n",
    "                                      session.filtered_df.loc[ix].longitude), \n",
    "                                  title='Tack', \n",
    "                                  radius=2,\n",
    "                                  color=transition_colour(session.filtered_df.loc[ix].tack),\n",
    "                                  popup=HTML(value='Tack'), \n",
    "                                  draggable=False)\n",
    "            waypoints += [marker]\n",
    "            \n",
    "    waypoints_layer = LayerGroup(layers=waypoints)\n",
    "    m.add_layer(waypoints_layer)\n",
    "    \n",
    "    \n",
    "    # add a checkbox to show / hide waypoints\n",
    "    waypoints_checkbox = Checkbox(value=True, description='Show Waypoints')\n",
    "    \n",
    "    def update_visible(change):\n",
    "        for p in waypoints:\n",
    "            p.visible = change['new']\n",
    "    \n",
    "    waypoints_checkbox.observe(update_visible, 'value')\n",
    "    waypoint_control = WidgetControl(widget=waypoints_checkbox, position='bottomright')\n",
    "    m.add_control(waypoint_control)\n",
    "    \n",
    "    # enable full screen mode\n",
    "    m.add_control(FullScreenControl())\n",
    "        \n",
    "    # add measure control\n",
    "    measure = MeasureControl(\n",
    "        position='bottomleft',\n",
    "        active_color = 'orange',\n",
    "        primary_length_unit = 'kilometers'\n",
    "    )\n",
    "    m.add_control(measure)\n",
    "    return m"
   ]
  },
  {
   "cell_type": "code",
   "execution_count": null,
   "id": "981f4269-ba71-4741-81b8-6494cb59b97f",
   "metadata": {},
   "outputs": [],
   "source": [
    "ipyleaflet_chart(session)\n",
    "\n"
   ]
  },
  {
   "cell_type": "code",
   "execution_count": 211,
   "id": "6273a8e6-b770-448e-b1d0-3ea9577009e9",
   "metadata": {},
   "outputs": [
    {
     "data": {
      "text/plain": [
       "timestamp              2023-06-30 18:52:46.279000\n",
       "latitude                                43.635958\n",
       "longitude                              -79.362607\n",
       "sog_kts                                       4.8\n",
       "cog                                         118.4\n",
       "hdg_true                                    118.1\n",
       "roll                                          9.5\n",
       "pitch                                         1.0\n",
       "distance_step                            1.312774\n",
       "distance_cumulative                   4323.069039\n",
       "time_diff                                     0.5\n",
       "time_elapsed_sec                         2070.333\n",
       "vmg_kts                                  2.861879\n",
       "upwind                                        1.0\n",
       "tack_raw                                        1\n",
       "is_moving                                     1.0\n",
       "tack                                         -1.0\n",
       "segment                                      10.0\n",
       "Name: 4122, dtype: object"
      ]
     },
     "execution_count": 211,
     "metadata": {},
     "output_type": "execute_result"
    }
   ],
   "source": [
    "# 4014 - 4458\n",
    "\n",
    "        \n",
    "# session.tacks\n",
    "session.filtered_df.loc[4122]"
   ]
  },
  {
   "cell_type": "code",
   "execution_count": null,
   "id": "d635175d-a5a1-419c-b6fc-b996513a64f9",
   "metadata": {},
   "outputs": [],
   "source": []
  },
  {
   "cell_type": "code",
   "execution_count": null,
   "id": "da92c0e1-0773-4c29-a71e-017db809f445",
   "metadata": {},
   "outputs": [],
   "source": []
  },
  {
   "cell_type": "code",
   "execution_count": null,
   "id": "f2cf444d-d9e7-4a1a-a2f2-304692b3f76e",
   "metadata": {},
   "outputs": [],
   "source": []
  },
  {
   "cell_type": "code",
   "execution_count": null,
   "id": "b53ae73b-1837-4af2-b2bd-2fec7de62f42",
   "metadata": {},
   "outputs": [],
   "source": []
  },
  {
   "cell_type": "code",
   "execution_count": null,
   "id": "1bdcd1d6-a808-4e98-a913-1b9e30a752ae",
   "metadata": {},
   "outputs": [],
   "source": []
  }
 ],
 "metadata": {
  "kernelspec": {
   "display_name": "Python 3 (ipykernel)",
   "language": "python",
   "name": "python3"
  },
  "language_info": {
   "codemirror_mode": {
    "name": "ipython",
    "version": 3
   },
   "file_extension": ".py",
   "mimetype": "text/x-python",
   "name": "python",
   "nbconvert_exporter": "python",
   "pygments_lexer": "ipython3",
   "version": "3.10.12"
  }
 },
 "nbformat": 4,
 "nbformat_minor": 5
}
