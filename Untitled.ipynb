{
 "cells": [
  {
   "cell_type": "code",
   "execution_count": 1,
   "id": "6b82ac2c-44cf-4f4b-9e41-264c83c429bc",
   "metadata": {},
   "outputs": [
    {
     "name": "stdout",
     "output_type": "stream",
     "text": [
      "add_distances elapsed: 12.52553105354309 s.\n",
      "add_time_steps elapsed: 4.445443868637085 s.\n",
      "cog already present in dataframe.\n",
      "sog_kts already present in dataframe.\n",
      "calculated wind_dir as 70\n"
     ]
    }
   ],
   "source": [
    "import sys, os\n",
    "import ipywidgets as widgets\n",
    "from ipywidgets import Button, HTML, HBox, FileUpload, Label, Output, Layout, Image\n",
    "\n",
    "sys.path.append(os.getcwd() + '/src')\n",
    "from sailing_session import SailingSession\n",
    "from sailing_graphs import *\n",
    "\n",
    "session=SailingSession('examples/friday_night_races/FNR 2023-07-14 (3rd).csv')# params={course:83.3}\n",
    "# session=SailingSession('examples/friday_night_races/FNR 2023-07-07 (27th).csv', params={'wind_dir': 270})\n",
    "# session = SailingSession('examples/Harbourmaster June 25 (crew 11, 15)-2023-06-25.csv')#\n",
    "# session=SailingSession('examples/friday_night_races/FNR 2023-06-23 (3rd).csv', params={'wind_dir': 60}) #20k pts\n",
    "# session = SailingSession('examples/Albacore-tuesday-night-2022-09-06.gpx') # 1k pts"
   ]
  },
  {
   "cell_type": "code",
   "execution_count": 2,
   "id": "875cc0c3-4dec-4ec8-8f37-63a93856fe6a",
   "metadata": {
    "tags": []
   },
   "outputs": [
    {
     "data": {
      "application/vnd.jupyter.widget-view+json": {
       "model_id": "31133ac223ba4db0927861d82ce40a2a",
       "version_major": 2,
       "version_minor": 0
      },
      "text/plain": [
       "HBox(children=(VBox(children=(IntRangeSlider(value=(0, 15073), description='Points included:', max=15073, read…"
      ]
     },
     "metadata": {},
     "output_type": "display_data"
    }
   ],
   "source": [
    "slide = widgets.IntRangeSlider(\n",
    "    value=[0, len(session.df) - 1],\n",
    "    min=0,\n",
    "    max=len(session.df) - 1,\n",
    "    step=1,\n",
    "    description='Points included:',\n",
    "    disabled=False,\n",
    "    continuous_update=True,\n",
    "    orientation='horizontal',\n",
    "    readout=False\n",
    ")\n",
    "\n",
    "def callback(slide):\n",
    "    session.filtered_df = session.df[slide[0]:slide[1]]\n",
    "    print(f\"start: {session.filtered_df.iloc[0].timestamp.strftime('%X')}\")\n",
    "    print(f\"end: {session.filtered_df.iloc[-1].timestamp.strftime('%X')}\")\n",
    "\n",
    "\n",
    "out = widgets.interactive_output(callback, {'slide': slide})\n",
    "widgets.HBox([widgets.VBox([slide]), out])\n"
   ]
  },
  {
   "cell_type": "markdown",
   "id": "c7029e0c-7656-4eb4-9898-7d56e4fb0996",
   "metadata": {},
   "source": [
    "### Course over Ground\n",
    "\n",
    "Display a Violin Plot with every Course over Ground reading, organized into segments (segments are separated by a tack/gybe).\n",
    "(For segments that include both upwind/downwind, a segment will include both colours)\n",
    "\n",
    "The thickness of each violin corresponds to the number of points at that specific COG.\n",
    "Use the slider to filter out the displayed segments."
   ]
  },
  {
   "cell_type": "code",
   "execution_count": 3,
   "id": "acd039a3-a84b-4197-b990-67dc80e081fd",
   "metadata": {},
   "outputs": [
    {
     "data": {
      "application/vnd.jupyter.widget-view+json": {
       "model_id": "ab84c64bd2a64b3baae00eb21f211444",
       "version_major": 2,
       "version_minor": 0
      },
      "text/plain": [
       "HBox(children=(IntRangeSlider(value=(0, 105), continuous_update=False, description='Segments:', max=105), Outp…"
      ]
     },
     "metadata": {},
     "output_type": "display_data"
    },
    {
     "data": {
      "application/vnd.jupyter.widget-view+json": {
       "model_id": "1d7ea27bb2254c9fa48f6f24c3130c8a",
       "version_major": 2,
       "version_minor": 0
      },
      "text/plain": [
       "HBox(children=(Output(),))"
      ]
     },
     "metadata": {},
     "output_type": "display_data"
    }
   ],
   "source": [
    "# Create a slider to pick which Segments to display in the graph (too many to display well)\n",
    "segment_slider = widgets.IntRangeSlider(\n",
    "    value=[0, len(session.df) - 1],\n",
    "    min=0,\n",
    "    max=session.df.iloc[-1].segment,\n",
    "    step=1,\n",
    "    description='Segments:',\n",
    "    disabled=False,\n",
    "    continuous_update=False,\n",
    "    orientation='horizontal',\n",
    "    readout=True,\n",
    "    readout_format='d'\n",
    ")\n",
    "\n",
    "def slide_callback(segment_slider):\n",
    "    start = segment_slider[0]\n",
    "    end = segment_slider[1]\n",
    "    session.filtered_df = session.df[(session.df['segment'] >= start) & \n",
    "                                     (session.df['segment'] <= end) ]\n",
    "    \n",
    "selected_segs = widgets.interactive_output(slide_callback, {'segment_slider': segment_slider})\n",
    "\n",
    "v_output = widgets.Output()\n",
    "button = Button(description='Filter Graph')\n",
    "\n",
    "def on_button_clicked(b):\n",
    "    with v_output:\n",
    "        v_output.clear_output()\n",
    "        seaborn_violin(session)\n",
    "        \n",
    "button.on_click(on_button_clicked)\n",
    "\n",
    "on_button_clicked(False)\n",
    "\n",
    "display(HBox([segment_slider, selected_segs, button]),\n",
    "        HBox([v_output])) \n",
    "\n"
   ]
  },
  {
   "cell_type": "code",
   "execution_count": null,
   "id": "cddd3f4d-1af5-4e90-ac46-33dc7a53101f",
   "metadata": {},
   "outputs": [],
   "source": []
  },
  {
   "cell_type": "code",
   "execution_count": 31,
   "id": "e50fd20e-65ca-423a-9989-049e2cd424dd",
   "metadata": {},
   "outputs": [],
   "source": [
    "def html_table(point):\n",
    "    return HTML(value=f\"\"\"<table>\n",
    "                            <tr>\n",
    "                                <td><b>Timestamp</b></td>\n",
    "                                <td>{point.timestamp.strftime('%X')}</td>\n",
    "                            </tr>\n",
    "                            <tr>\n",
    "                                <td><b>Reading No., Segment</b></td>\n",
    "                                <td>{point.name} - {int(point.segment)}</td>\n",
    "                            </tr>\n",
    "                            <tr>\n",
    "                                <td><b>Speed (kts)</b></td>\n",
    "                                <td>{point.sog_kts}</td>\n",
    "                            </tr>\n",
    "                            <tr>\n",
    "                                <td><b>Heading</b></td>\n",
    "                                <td>{point.hdg_true}</td>\n",
    "                            </tr>\n",
    "                            <tr>\n",
    "                                <td><b>Course over Ground</b></td>\n",
    "                                <td>{point.cog}</td>\n",
    "                            </tr>\n",
    "                            <tr>\n",
    "                                <td><b>Roll & Pitch</b></td>\n",
    "                                <td>{point.roll}, {point.pitch}</td>\n",
    "                            </tr>\n",
    "                            <tr>\n",
    "                                <td><b>VMG (kts)</b></td>\n",
    "                                <td>{point.vmg_kts}</td>\n",
    "                            </tr>\n",
    "                            <tr>\n",
    "                                <td><b>Cumulative Distance (m)</b></td>\n",
    "                                <td>{round(point.distance_cumulative, 2)}</td>\n",
    "                            </tr>\n",
    "                            <tr>\n",
    "                                <td><b>lat/lon pair</b></td>\n",
    "                                <td>[{point.latitude}, {point.longitude}]</td>\n",
    "                            </tr>\n",
    "                          </table>\"\"\")\n",
    "\n",
    "\n",
    "\n",
    "\n",
    "def ipyleaflet_chart(session):\n",
    "    \"\"\"\n",
    "    Plot the GPS trace on an ipyleaflet map.\n",
    "    Include waypoints if provided.\n",
    "\n",
    "    Colours will be separated by tack. Dashed lines (AntPath) for downwind\n",
    "    \"\"\"\n",
    "    mean_lat = session.filtered_df.median(numeric_only=True).latitude\n",
    "    mean_lng = session.filtered_df.median(numeric_only=True).longitude\n",
    "\n",
    "    # create the map\n",
    "    m = Map(center=(mean_lat, mean_lng), \n",
    "            zoom=15,\n",
    "            layout=Layout(width='100%', height='900px'),\n",
    "            basemap=basemaps.CartoDB.Positron) #Stamen.Terrain)\n",
    "\n",
    "    markers = []\n",
    "    def line_click_handler(**kwargs):\n",
    "        point = point_from_coords(session.filtered_df, kwargs['coordinates'])\n",
    "\n",
    "        popup = Popup(\n",
    "            location=[point.latitude, point.longitude],\n",
    "            child=html_table(point),\n",
    "            close_button=False,\n",
    "            auto_close=False,\n",
    "            close_on_escape_key=False\n",
    "        )\n",
    "        m.add_layer(popup)\n",
    "\n",
    "        # line_marker = Marker(location=[point.latitude, point.longitude],\n",
    "        #                      draggable=False, popup=html_table(point))\n",
    "        # m.add_layer(line_marker)\n",
    "\n",
    "        \n",
    "    segments = {}        \n",
    "    for x in range(int(session.filtered_df.iloc[1].segment), int(session.filtered_df.iloc[-1].segment)+1):\n",
    "        segments[x] = []\n",
    "\n",
    "    for ix, row in session.filtered_df.iterrows():\n",
    "        segments[row.segment] += [[row.latitude, row.longitude]]\n",
    "        \n",
    "    for seg_key in segments:\n",
    "        rows = session.df[session.df['segment'] == seg_key]\n",
    "        # tacks are indicated by 1 / -1 for port / stbd\n",
    "        seg_colour = 'red' if rows.iloc[0].tack > 0 else 'green'\n",
    "        \n",
    "        # use antpath (striped line) for downwind\n",
    "        if segment_is_upwind(rows):\n",
    "            line = Polyline(locations=segments[seg_key], \n",
    "                            color = seg_colour, fill=False, weight=speed_fraction(session.filtered_df, rows))\n",
    "        else:  \n",
    "            line = AntPath(locations=segments[seg_key], color = seg_colour, \n",
    "                             fill=False, weight=speed_fraction(session.filtered_df, rows), paused=True)\n",
    "    \n",
    "        line.on_click(line_click_handler)\n",
    "        m.add_layer(line)\n",
    "    \n",
    "    # session.tacks (and gybes) contain the index of the first point\n",
    "    # on the new tack.\n",
    "    # Use reddish for stbd-> port\n",
    "    # greenish for port->stbd\n",
    "    def transition_colour(tack, type='tack'):\n",
    "        reddish = '#f56042'\n",
    "        greenish = '#36e036'\n",
    "        green_gybe = '#36e0b8'\n",
    "        red_gybe = '#e08536'\n",
    "        if type == 'gybe':\n",
    "            return green_gybe if tack > 0 else red_gybe\n",
    "        else:\n",
    "            return greenish if tack > 0 else reddish\n",
    "    \n",
    "    # add markers\n",
    "    waypoints = []\n",
    "\n",
    "    # tacks\n",
    "    for ix in session.tacks:\n",
    "        if ix in session.filtered_df.index:\n",
    "            row = session.filtered_df.loc[ix]\n",
    "            marker = CircleMarker(location=(row.latitude, row.longitude),\n",
    "                                  title='Tack', \n",
    "                                  radius=2,\n",
    "                                  color=transition_colour(row.tack),\n",
    "                                  popup=HTML(value=f\"Tack to start segment {row.segment}\"), \n",
    "                                  draggable=False)\n",
    "            waypoints += [marker]\n",
    "        \n",
    "    # gybes\n",
    "    for ix in session.gybes:\n",
    "        if ix in session.filtered_df.index:\n",
    "            row = session.filtered_df.loc[ix]\n",
    "            marker = CircleMarker(location=(row.latitude, row.longitude), \n",
    "                                  title='Gybe', \n",
    "                                  radius=2,\n",
    "                                  color=transition_colour(row.tack, 'gybe'),\n",
    "                                  popup=HTML(value=f\"Gybe to start segment {row.segment}\"), \n",
    "                                  draggable=False)\n",
    "            waypoints += [marker]\n",
    "        \n",
    "    waypoints_layer = LayerGroup(layers=waypoints)\n",
    "    m.add_layer(waypoints_layer)\n",
    "    \n",
    "    \n",
    "    # legend\n",
    "    # legend = LegendControl({\"low\":\"#FAA\", \"medium\":\"#A55\", \"High\":\"#500\"}, \n",
    "    #                        name=\"Legend\", position=\"bottomright\")\n",
    "    # m.add_control(legend)\n",
    "\n",
    "    \n",
    "    # add a checkbox to show / hide waypoints\n",
    "    waypoints_checkbox = Checkbox(value=True, description='Show Maneuvers')\n",
    "    \n",
    "    def update_visible(change):\n",
    "        for p in waypoints:\n",
    "            p.stroke = change['new']\n",
    "    \n",
    "    waypoints_checkbox.observe(update_visible, 'value')\n",
    "    waypoint_control = WidgetControl(widget=waypoints_checkbox, position='bottomright')\n",
    "    m.add_control(waypoint_control)\n",
    "    \n",
    "    # enable full screen mode\n",
    "    m.add_control(FullScreenControl())\n",
    "        \n",
    "    # add measure control\n",
    "    measure = MeasureControl(\n",
    "        position='bottomleft',\n",
    "        active_color = 'orange',\n",
    "        primary_length_unit = 'kilometers'\n",
    "    )\n",
    "    m.add_control(measure)\n",
    "    \n",
    "    # def handle_click(**kwargs):\n",
    "    #     # print(kwargs)\n",
    "    #     if kwargs.get('type') == 'click':\n",
    "    #         m.add_layer(Marker(location=kwargs.get('coordinates')))\n",
    "    # m.on_interaction(handle_click)\n",
    "        \n",
    "    return m\n"
   ]
  },
  {
   "cell_type": "code",
   "execution_count": 32,
   "id": "981f4269-ba71-4741-81b8-6494cb59b97f",
   "metadata": {},
   "outputs": [
    {
     "data": {
      "application/vnd.jupyter.widget-view+json": {
       "model_id": "ccfcf9dc93da4c5a8233e74e18c7e428",
       "version_major": 2,
       "version_minor": 0
      },
      "text/plain": [
       "Map(center=[43.6370583, -79.3640133], controls=(ZoomControl(options=['position', 'zoom_in_text', 'zoom_in_titl…"
      ]
     },
     "metadata": {},
     "output_type": "display_data"
    }
   ],
   "source": [
    "chart=ipyleaflet_chart(session)\n",
    "\n",
    "chart"
   ]
  },
  {
   "cell_type": "code",
   "execution_count": 34,
   "id": "6273a8e6-b770-448e-b1d0-3ea9577009e9",
   "metadata": {},
   "outputs": [
    {
     "name": "stdout",
     "output_type": "stream",
     "text": [
      "1014 982 885\n",
      "1.47 1.42 1.28\n"
     ]
    }
   ],
   "source": [
    "graph = bqplot_graph(session)\n",
    "graph\n",
    "\n",
    "straight=690\n",
    "bt = [7130.4,8933.2, 10703.4]\n",
    "top = [8144.3, 9915.63, 11588.66]\n",
    "\n",
    "a,b,c = top[0]-bt[0],top[1]-bt[1],top[2]-bt[2]\n",
    "print(round(a),round(b),round(c))\n",
    "\n",
    "print(round(a/straight, 2), round(b/straight,2), round(c/straight,2))"
   ]
  },
  {
   "cell_type": "code",
   "execution_count": 6,
   "id": "d635175d-a5a1-419c-b6fc-b996513a64f9",
   "metadata": {},
   "outputs": [],
   "source": [
    "link_chart_graph(chart, graph, session)"
   ]
  },
  {
   "cell_type": "code",
   "execution_count": 7,
   "id": "da92c0e1-0773-4c29-a71e-017db809f445",
   "metadata": {},
   "outputs": [
    {
     "data": {
      "image/png": "[encoded data removed]",
      "text/plain": [
       "<Figure size 2077x500 with 1 Axes>"
      ]
     },
     "metadata": {},
     "output_type": "display_data"
    }
   ],
   "source": [
    "seaborn_violin(session, metric='sog_kts')"
   ]
  },
  {
   "cell_type": "code",
   "execution_count": 8,
   "id": "f2cf444d-d9e7-4a1a-a2f2-304692b3f76e",
   "metadata": {},
   "outputs": [
    {
     "data": {
      "image/png": "[encoded data removed]",
      "text/plain": [
       "<Figure size 2077x500 with 1 Axes>"
      ]
     },
     "metadata": {},
     "output_type": "display_data"
    }
   ],
   "source": [
    "seaborn_violin(session, metric='vmg_kts')"
   ]
  },
  {
   "cell_type": "code",
   "execution_count": 9,
   "id": "b53ae73b-1837-4af2-b2bd-2fec7de62f42",
   "metadata": {},
   "outputs": [
    {
     "data": {
      "text/plain": [
       "83.31251404611845"
      ]
     },
     "execution_count": 9,
     "metadata": {},
     "output_type": "execute_result"
    }
   ],
   "source": [
    "import math\n",
    "def calculate_initial_compass_bearing(pointA, pointB):\n",
    "    \"\"\"\n",
    "    Calculates the bearing between two points.\n",
    "    The formulae used is the following:\n",
    "        θ = atan2(sin(Δlong).cos(lat2),\n",
    "                  cos(lat1).sin(lat2) − sin(lat1).cos(lat2).cos(Δlong))\n",
    "    :Parameters:\n",
    "      - `pointA: The tuple representing the latitude/longitude for the\n",
    "        first point. Latitude and longitude must be in decimal degrees\n",
    "      - `pointB: The tuple representing the latitude/longitude for the\n",
    "        second point. Latitude and longitude must be in decimal degrees\n",
    "    :Returns:\n",
    "      The bearing in degrees\n",
    "    :Returns Type:\n",
    "      float\n",
    "    \"\"\"\n",
    "    if (type(pointA) != tuple) or (type(pointB) != tuple):\n",
    "        raise TypeError(\"Only tuples are supported as arguments\")\n",
    "\n",
    "    lat1 = math.radians(pointA[0])\n",
    "    lat2 = math.radians(pointB[0])\n",
    "\n",
    "    diffLong = math.radians(pointB[1] - pointA[1])\n",
    "\n",
    "    x = math.sin(diffLong) * math.cos(lat2)\n",
    "    y = math.cos(lat1) * math.sin(lat2) - (math.sin(lat1)\n",
    "                                           * math.cos(lat2) * math.cos(diffLong))\n",
    "\n",
    "    initial_bearing = math.atan2(x, y)\n",
    "\n",
    "    # Now we have the initial bearing but math.atan2 return values\n",
    "    # from -180° to + 180° which is not what we want for a compass bearing\n",
    "    # The solution is to normalize the initial bearing as shown below\n",
    "    initial_bearing = math.degrees(initial_bearing)\n",
    "    compass_bearing = (initial_bearing + 360) % 360\n",
    "\n",
    "    return compass_bearing\n",
    "\n",
    "calculate_initial_compass_bearing((43.637037, -79.368247),(43.637750, -79.359841))"
   ]
  },
  {
   "cell_type": "code",
   "execution_count": null,
   "id": "1bdcd1d6-a808-4e98-a913-1b9e30a752ae",
   "metadata": {},
   "outputs": [],
   "source": []
  },
  {
   "cell_type": "code",
   "execution_count": 65,
   "id": "e56f5d0a-bc95-4f2d-a6f6-e40b010bbb84",
   "metadata": {},
   "outputs": [
    {
     "data": {
      "text/html": [
       "<div>\n",
       "<style scoped>\n",
       "    .dataframe tbody tr th:only-of-type {\n",
       "        vertical-align: middle;\n",
       "    }\n",
       "\n",
       "    .dataframe tbody tr th {\n",
       "        vertical-align: top;\n",
       "    }\n",
       "\n",
       "    .dataframe thead th {\n",
       "        text-align: right;\n",
       "    }\n",
       "</style>\n",
       "<table border=\"1\" class=\"dataframe\">\n",
       "  <thead>\n",
       "    <tr style=\"text-align: right;\">\n",
       "      <th></th>\n",
       "      <th>latitude</th>\n",
       "      <th>longitude</th>\n",
       "      <th>sog_kts</th>\n",
       "      <th>cog</th>\n",
       "      <th>hdg_true</th>\n",
       "      <th>roll</th>\n",
       "      <th>pitch</th>\n",
       "      <th>distance_step</th>\n",
       "      <th>distance_cumulative</th>\n",
       "      <th>time_diff</th>\n",
       "      <th>time_elapsed_sec</th>\n",
       "      <th>vmg_kts</th>\n",
       "      <th>upwind</th>\n",
       "      <th>tack_raw</th>\n",
       "      <th>is_moving</th>\n",
       "      <th>tack</th>\n",
       "      <th>leeway</th>\n",
       "    </tr>\n",
       "    <tr>\n",
       "      <th>segment</th>\n",
       "      <th></th>\n",
       "      <th></th>\n",
       "      <th></th>\n",
       "      <th></th>\n",
       "      <th></th>\n",
       "      <th></th>\n",
       "      <th></th>\n",
       "      <th></th>\n",
       "      <th></th>\n",
       "      <th></th>\n",
       "      <th></th>\n",
       "      <th></th>\n",
       "      <th></th>\n",
       "      <th></th>\n",
       "      <th></th>\n",
       "      <th></th>\n",
       "      <th></th>\n",
       "    </tr>\n",
       "  </thead>\n",
       "  <tbody>\n",
       "    <tr>\n",
       "      <th>1.0</th>\n",
       "      <td>43.640700</td>\n",
       "      <td>-79.336326</td>\n",
       "      <td>0.280000</td>\n",
       "      <td>292.420000</td>\n",
       "      <td>91.360000</td>\n",
       "      <td>9.880000</td>\n",
       "      <td>8.540000</td>\n",
       "      <td>0.379984</td>\n",
       "      <td>1.074996</td>\n",
       "      <td>0.606400</td>\n",
       "      <td>1.622800</td>\n",
       "      <td>-0.222844</td>\n",
       "      <td>0.000000</td>\n",
       "      <td>-1.000000</td>\n",
       "      <td>0.000000</td>\n",
       "      <td>-1.0</td>\n",
       "      <td>0.000000</td>\n",
       "    </tr>\n",
       "    <tr>\n",
       "      <th>2.0</th>\n",
       "      <td>43.640686</td>\n",
       "      <td>-79.336327</td>\n",
       "      <td>0.097674</td>\n",
       "      <td>192.653488</td>\n",
       "      <td>112.734884</td>\n",
       "      <td>12.866279</td>\n",
       "      <td>8.547674</td>\n",
       "      <td>0.079268</td>\n",
       "      <td>6.658234</td>\n",
       "      <td>0.500209</td>\n",
       "      <td>24.787012</td>\n",
       "      <td>-0.069251</td>\n",
       "      <td>0.000000</td>\n",
       "      <td>0.860465</td>\n",
       "      <td>0.000000</td>\n",
       "      <td>0.0</td>\n",
       "      <td>0.000000</td>\n",
       "    </tr>\n",
       "    <tr>\n",
       "      <th>3.0</th>\n",
       "      <td>43.640542</td>\n",
       "      <td>-79.336178</td>\n",
       "      <td>2.103297</td>\n",
       "      <td>137.529670</td>\n",
       "      <td>146.481319</td>\n",
       "      <td>9.641758</td>\n",
       "      <td>7.507692</td>\n",
       "      <td>0.522116</td>\n",
       "      <td>28.347585</td>\n",
       "      <td>0.500077</td>\n",
       "      <td>69.059945</td>\n",
       "      <td>0.830076</td>\n",
       "      <td>0.956044</td>\n",
       "      <td>1.000000</td>\n",
       "      <td>0.967033</td>\n",
       "      <td>1.0</td>\n",
       "      <td>11.989011</td>\n",
       "    </tr>\n",
       "    <tr>\n",
       "      <th>4.0</th>\n",
       "      <td>43.640805</td>\n",
       "      <td>-79.335580</td>\n",
       "      <td>4.128099</td>\n",
       "      <td>31.960331</td>\n",
       "      <td>40.185124</td>\n",
       "      <td>-5.467769</td>\n",
       "      <td>7.456198</td>\n",
       "      <td>1.080639</td>\n",
       "      <td>119.129992</td>\n",
       "      <td>0.500000</td>\n",
       "      <td>122.052529</td>\n",
       "      <td>3.124131</td>\n",
       "      <td>1.000000</td>\n",
       "      <td>-0.933884</td>\n",
       "      <td>1.000000</td>\n",
       "      <td>-1.0</td>\n",
       "      <td>8.290909</td>\n",
       "    </tr>\n",
       "    <tr>\n",
       "      <th>5.0</th>\n",
       "      <td>43.636703</td>\n",
       "      <td>-79.335354</td>\n",
       "      <td>4.187542</td>\n",
       "      <td>197.064799</td>\n",
       "      <td>213.225084</td>\n",
       "      <td>5.190217</td>\n",
       "      <td>7.585870</td>\n",
       "      <td>1.075168</td>\n",
       "      <td>839.764386</td>\n",
       "      <td>0.500016</td>\n",
       "      <td>451.315055</td>\n",
       "      <td>-2.210346</td>\n",
       "      <td>-0.570234</td>\n",
       "      <td>0.993311</td>\n",
       "      <td>1.000000</td>\n",
       "      <td>1.0</td>\n",
       "      <td>16.174331</td>\n",
       "    </tr>\n",
       "    <tr>\n",
       "      <th>...</th>\n",
       "      <td>...</td>\n",
       "      <td>...</td>\n",
       "      <td>...</td>\n",
       "      <td>...</td>\n",
       "      <td>...</td>\n",
       "      <td>...</td>\n",
       "      <td>...</td>\n",
       "      <td>...</td>\n",
       "      <td>...</td>\n",
       "      <td>...</td>\n",
       "      <td>...</td>\n",
       "      <td>...</td>\n",
       "      <td>...</td>\n",
       "      <td>...</td>\n",
       "      <td>...</td>\n",
       "      <td>...</td>\n",
       "      <td>...</td>\n",
       "    </tr>\n",
       "    <tr>\n",
       "      <th>101.0</th>\n",
       "      <td>43.636967</td>\n",
       "      <td>-79.361643</td>\n",
       "      <td>3.022034</td>\n",
       "      <td>102.053672</td>\n",
       "      <td>112.757627</td>\n",
       "      <td>11.431073</td>\n",
       "      <td>9.492655</td>\n",
       "      <td>0.784637</td>\n",
       "      <td>11363.848339</td>\n",
       "      <td>0.500017</td>\n",
       "      <td>7275.165282</td>\n",
       "      <td>2.513536</td>\n",
       "      <td>1.000000</td>\n",
       "      <td>0.954802</td>\n",
       "      <td>1.000000</td>\n",
       "      <td>1.0</td>\n",
       "      <td>11.207910</td>\n",
       "    </tr>\n",
       "    <tr>\n",
       "      <th>102.0</th>\n",
       "      <td>43.637082</td>\n",
       "      <td>-79.360600</td>\n",
       "      <td>2.981443</td>\n",
       "      <td>26.953608</td>\n",
       "      <td>30.870103</td>\n",
       "      <td>-4.182474</td>\n",
       "      <td>8.901031</td>\n",
       "      <td>0.777725</td>\n",
       "      <td>11472.767969</td>\n",
       "      <td>0.500237</td>\n",
       "      <td>7343.661990</td>\n",
       "      <td>2.074213</td>\n",
       "      <td>1.000000</td>\n",
       "      <td>-0.917526</td>\n",
       "      <td>1.000000</td>\n",
       "      <td>-1.0</td>\n",
       "      <td>4.860825</td>\n",
       "    </tr>\n",
       "    <tr>\n",
       "      <th>103.0</th>\n",
       "      <td>43.637387</td>\n",
       "      <td>-79.360269</td>\n",
       "      <td>2.735897</td>\n",
       "      <td>96.833333</td>\n",
       "      <td>106.112821</td>\n",
       "      <td>12.646154</td>\n",
       "      <td>9.915385</td>\n",
       "      <td>0.717805</td>\n",
       "      <td>11523.397438</td>\n",
       "      <td>0.499359</td>\n",
       "      <td>7377.685128</td>\n",
       "      <td>2.215349</td>\n",
       "      <td>1.000000</td>\n",
       "      <td>0.794872</td>\n",
       "      <td>1.000000</td>\n",
       "      <td>1.0</td>\n",
       "      <td>10.166667</td>\n",
       "    </tr>\n",
       "    <tr>\n",
       "      <th>104.0</th>\n",
       "      <td>43.637510</td>\n",
       "      <td>-79.359952</td>\n",
       "      <td>3.161404</td>\n",
       "      <td>28.477193</td>\n",
       "      <td>34.361404</td>\n",
       "      <td>-2.042105</td>\n",
       "      <td>8.652632</td>\n",
       "      <td>0.812293</td>\n",
       "      <td>11562.763645</td>\n",
       "      <td>0.499982</td>\n",
       "      <td>7401.665246</td>\n",
       "      <td>2.196778</td>\n",
       "      <td>1.000000</td>\n",
       "      <td>-0.859649</td>\n",
       "      <td>1.000000</td>\n",
       "      <td>-1.0</td>\n",
       "      <td>6.705263</td>\n",
       "    </tr>\n",
       "    <tr>\n",
       "      <th>105.0</th>\n",
       "      <td>43.637413</td>\n",
       "      <td>-79.358818</td>\n",
       "      <td>2.970492</td>\n",
       "      <td>110.680738</td>\n",
       "      <td>124.296311</td>\n",
       "      <td>9.092623</td>\n",
       "      <td>9.479098</td>\n",
       "      <td>0.764753</td>\n",
       "      <td>11675.243880</td>\n",
       "      <td>0.499955</td>\n",
       "      <td>7476.913529</td>\n",
       "      <td>2.220732</td>\n",
       "      <td>1.000000</td>\n",
       "      <td>0.967213</td>\n",
       "      <td>1.000000</td>\n",
       "      <td>1.0</td>\n",
       "      <td>13.678689</td>\n",
       "    </tr>\n",
       "  </tbody>\n",
       "</table>\n",
       "<p>105 rows × 17 columns</p>\n",
       "</div>"
      ],
      "text/plain": [
       "          latitude  longitude   sog_kts         cog    hdg_true       roll  \\\n",
       "segment                                                                      \n",
       "1.0      43.640700 -79.336326  0.280000  292.420000   91.360000   9.880000   \n",
       "2.0      43.640686 -79.336327  0.097674  192.653488  112.734884  12.866279   \n",
       "3.0      43.640542 -79.336178  2.103297  137.529670  146.481319   9.641758   \n",
       "4.0      43.640805 -79.335580  4.128099   31.960331   40.185124  -5.467769   \n",
       "5.0      43.636703 -79.335354  4.187542  197.064799  213.225084   5.190217   \n",
       "...            ...        ...       ...         ...         ...        ...   \n",
       "101.0    43.636967 -79.361643  3.022034  102.053672  112.757627  11.431073   \n",
       "102.0    43.637082 -79.360600  2.981443   26.953608   30.870103  -4.182474   \n",
       "103.0    43.637387 -79.360269  2.735897   96.833333  106.112821  12.646154   \n",
       "104.0    43.637510 -79.359952  3.161404   28.477193   34.361404  -2.042105   \n",
       "105.0    43.637413 -79.358818  2.970492  110.680738  124.296311   9.092623   \n",
       "\n",
       "            pitch  distance_step  distance_cumulative  time_diff  \\\n",
       "segment                                                            \n",
       "1.0      8.540000       0.379984             1.074996   0.606400   \n",
       "2.0      8.547674       0.079268             6.658234   0.500209   \n",
       "3.0      7.507692       0.522116            28.347585   0.500077   \n",
       "4.0      7.456198       1.080639           119.129992   0.500000   \n",
       "5.0      7.585870       1.075168           839.764386   0.500016   \n",
       "...           ...            ...                  ...        ...   \n",
       "101.0    9.492655       0.784637         11363.848339   0.500017   \n",
       "102.0    8.901031       0.777725         11472.767969   0.500237   \n",
       "103.0    9.915385       0.717805         11523.397438   0.499359   \n",
       "104.0    8.652632       0.812293         11562.763645   0.499982   \n",
       "105.0    9.479098       0.764753         11675.243880   0.499955   \n",
       "\n",
       "         time_elapsed_sec   vmg_kts    upwind  tack_raw  is_moving  tack  \\\n",
       "segment                                                                    \n",
       "1.0              1.622800 -0.222844  0.000000 -1.000000   0.000000  -1.0   \n",
       "2.0             24.787012 -0.069251  0.000000  0.860465   0.000000   0.0   \n",
       "3.0             69.059945  0.830076  0.956044  1.000000   0.967033   1.0   \n",
       "4.0            122.052529  3.124131  1.000000 -0.933884   1.000000  -1.0   \n",
       "5.0            451.315055 -2.210346 -0.570234  0.993311   1.000000   1.0   \n",
       "...                   ...       ...       ...       ...        ...   ...   \n",
       "101.0         7275.165282  2.513536  1.000000  0.954802   1.000000   1.0   \n",
       "102.0         7343.661990  2.074213  1.000000 -0.917526   1.000000  -1.0   \n",
       "103.0         7377.685128  2.215349  1.000000  0.794872   1.000000   1.0   \n",
       "104.0         7401.665246  2.196778  1.000000 -0.859649   1.000000  -1.0   \n",
       "105.0         7476.913529  2.220732  1.000000  0.967213   1.000000   1.0   \n",
       "\n",
       "            leeway  \n",
       "segment             \n",
       "1.0       0.000000  \n",
       "2.0       0.000000  \n",
       "3.0      11.989011  \n",
       "4.0       8.290909  \n",
       "5.0      16.174331  \n",
       "...            ...  \n",
       "101.0    11.207910  \n",
       "102.0     4.860825  \n",
       "103.0    10.166667  \n",
       "104.0     6.705263  \n",
       "105.0    13.678689  \n",
       "\n",
       "[105 rows x 17 columns]"
      ]
     },
     "execution_count": 65,
     "metadata": {},
     "output_type": "execute_result"
    }
   ],
   "source": [
    "f=session.df\n",
    "g=f.groupby('segment')#, axis=\"columns\")\n",
    "\n",
    "g.mean(numeric_only=True)\n",
    "\n",
    "# g.sum('time_diff')"
   ]
  },
  {
   "cell_type": "code",
   "execution_count": null,
   "id": "223d1c61-5d65-43ac-b399-44ba75573f42",
   "metadata": {},
   "outputs": [],
   "source": []
  },
  {
   "cell_type": "code",
   "execution_count": null,
   "id": "bb96fb32-3d64-4859-83be-2d99a6bf0a58",
   "metadata": {},
   "outputs": [],
   "source": []
  },
  {
   "cell_type": "code",
   "execution_count": null,
   "id": "2cd0a8bb-2991-4df6-99b7-20062b2bd7d6",
   "metadata": {},
   "outputs": [],
   "source": [
    "i=3000"
   ]
  },
  {
   "cell_type": "code",
   "execution_count": 42,
   "id": "4db71b51-ef11-4521-a4ad-681e73209513",
   "metadata": {},
   "outputs": [],
   "source": []
  },
  {
   "cell_type": "code",
   "execution_count": 50,
   "id": "8a79b472-fee9-4989-b7b5-a57b338d0752",
   "metadata": {},
   "outputs": [],
   "source": [
    "# bqplot_graph(session)"
   ]
  },
  {
   "cell_type": "code",
   "execution_count": 57,
   "id": "7c88119b-87fe-4bec-859a-f4e2404f46c0",
   "metadata": {},
   "outputs": [],
   "source": [
    "session.df['leeway']=abs(session.df['cog']-session.df['hdg_true'])* session.df['is_moving']"
   ]
  },
  {
   "cell_type": "code",
   "execution_count": 63,
   "id": "ad20b150-f284-4548-902a-a16a975642b5",
   "metadata": {},
   "outputs": [
    {
     "data": {
      "text/plain": [
       "16.10655433196232"
      ]
     },
     "execution_count": 63,
     "metadata": {},
     "output_type": "execute_result"
    }
   ],
   "source": [
    "np.mean(session.df['leeway'])"
   ]
  },
  {
   "cell_type": "code",
   "execution_count": 89,
   "id": "54e7722b-f44a-4917-b773-a5964fd7adef",
   "metadata": {},
   "outputs": [
    {
     "data": {
      "application/vnd.plotly.v1+json": {
       "config": {
        "plotlyServerURL": "https://plot.ly"
       },
       "data": [
        {
         "marker": {
          "color": [
           "gray"
          ],
          "line": {
           "color": "black",
           "width": 2
          }
         },
         "name": "True Wind Direction",
         "opacity": 0.9,
         "r": [
          10
         ],
         "theta": [
          3
         ],
         "type": "barpolar",
         "width": [
          20
         ]
        },
        {
         "fill": "tonext",
         "line": {
          "color": "#46FF01"
         },
         "mode": "lines",
         "name": "top",
         "r": [
          2.5,
          2.5,
          2.5,
          3.475,
          3.425,
          3.425,
          3.34,
          3.4,
          3.8,
          3.7599999999999993,
          3.704999999999999,
          3.7749999999999995,
          3.8899999999999997,
          3.9,
          3.95,
          4.26,
          4.305,
          4.374999999999999,
          4.46,
          4.725,
          4.43,
          4.7,
          4.32,
          4.279999999999999,
          3.9899999999999993,
          3.6,
          3.8249999999999993,
          3.985,
          3.8799999999999994,
          4.0200000000000005,
          4.2,
          4.29,
          4.3,
          4.3,
          4.47,
          4.5,
          4.539999999999999,
          4.26,
          4.07,
          3.899999999999999,
          3.7199999999999993,
          3.6649999999999983,
          3.8999999999999986,
          4.319999999999999,
          4.455,
          4.355,
          4.365,
          4.119999999999999,
          3.55,
          3.4,
          3.385,
          3.965,
          3.96,
          3.96,
          3.2,
          4.8,
          4.7299999999999995,
          4.7299999999999995,
          3.4,
          3.7,
          3.7,
          4.15,
          4.17,
          4.17,
          4.4,
          4.375,
          4.4,
          4.325,
          4.325,
          3.874999999999999,
          2.4,
          4.22,
          4.14,
          4.074999999999999,
          2.78,
          2.78,
          2.6,
          2.6950000000000003,
          2.98,
          2.98,
          2.9899999999999998,
          2.4,
          2.4,
          2.4,
          2.3,
          2.3,
          2.3,
          4.5,
          4.5,
          4.5,
          1.7,
          1.7,
          1.7,
          1.8,
          2.275,
          2.275,
          2.3,
          2.085,
          2.28,
          2.54,
          2.525,
          2.6,
          3.4449999999999994,
          3.509999999999999,
          3.479999999999999,
          2.7099999999999995,
          2.7249999999999996,
          2.675,
          2.36,
          2.335,
          2.909999999999998,
          3.289999999999998,
          3.539999999999999,
          2.63,
          2.59,
          2.3,
          2.4099999999999997,
          2.3649999999999998,
          2.3899999999999997,
          2.26,
          2.3699999999999997,
          2.7149999999999994,
          2.6999999999999997,
          3.2499999999999987
         ],
         "theta": [
          88,
          89,
          90,
          91,
          92,
          93,
          94,
          95,
          96,
          97,
          98,
          99,
          100,
          101,
          102,
          103,
          104,
          105,
          106,
          107,
          108,
          109,
          110,
          111,
          112,
          113,
          114,
          115,
          116,
          117,
          118,
          119,
          120,
          121,
          122,
          123,
          124,
          125,
          126,
          127,
          128,
          129,
          130,
          131,
          132,
          133,
          134,
          135,
          136,
          137,
          138,
          139,
          140,
          141,
          142,
          143,
          144,
          145,
          146,
          151,
          152,
          153,
          154,
          155,
          160,
          161,
          162,
          163,
          164,
          165,
          166,
          168,
          169,
          170,
          171,
          172,
          173,
          174,
          175,
          176,
          177,
          182,
          183,
          184,
          186,
          187,
          188,
          207,
          208,
          209,
          210,
          211,
          212,
          218,
          219,
          220,
          221,
          222,
          223,
          224,
          225,
          226,
          227,
          228,
          229,
          230,
          231,
          232,
          233,
          234,
          235,
          236,
          237,
          238,
          239,
          240,
          241,
          242,
          243,
          244,
          245,
          246,
          247,
          248
         ],
         "type": "scatterpolar"
        },
        {
         "fill": "tonext",
         "line": {
          "color": "#6AFF33"
         },
         "mode": "lines",
         "name": "mean",
         "r": [
          2.5,
          2.5,
          2.5,
          3.25,
          2.7,
          2.7,
          2.7,
          3.2,
          3.1,
          3.1,
          3,
          3,
          3,
          3,
          2.95,
          3.1,
          3.2,
          3.2,
          3.1500000000000004,
          3.1,
          3.1,
          3.1,
          3.1,
          3.2,
          3.1500000000000004,
          3.1,
          2.95,
          3.1,
          3.1,
          3.3,
          3.3,
          3.1,
          3.1,
          3.2,
          3.25,
          3.3,
          3.3,
          3.4,
          3.45,
          3.3,
          3.2,
          3.1,
          3,
          3.1,
          3.3,
          3.5,
          3.45,
          3.4,
          3.3,
          3.3,
          3.25,
          3.65,
          3.6,
          3.6,
          3.2,
          4.8,
          4.1,
          4.1,
          3.4,
          3.7,
          3.7,
          3.7,
          3.9000000000000004,
          3.9000000000000004,
          4.4,
          4.15,
          4.15,
          3.55,
          2.9000000000000004,
          2.6,
          2.4,
          3.5,
          2.7,
          2.75,
          2.6,
          2.6,
          2.6,
          2.6500000000000004,
          2.8,
          2.8,
          2.9,
          2.4,
          2.4,
          2.4,
          2.3,
          2.3,
          2.3,
          4.5,
          4.5,
          4.5,
          1.7,
          1.7,
          1.7,
          1.8,
          2.05,
          2.05,
          2.3,
          1.9500000000000002,
          2.1,
          2.1,
          2.3,
          2.25,
          2.25,
          2.2,
          2.1,
          2.3,
          2.25,
          2.25,
          2,
          2,
          2,
          2.05,
          2.2,
          2.2,
          2.1500000000000004,
          2.05,
          2.1,
          2.05,
          2.1,
          2.1,
          2.2,
          2.1500000000000004,
          2.1,
          2.1500000000000004
         ],
         "theta": [
          88,
          89,
          90,
          91,
          92,
          93,
          94,
          95,
          96,
          97,
          98,
          99,
          100,
          101,
          102,
          103,
          104,
          105,
          106,
          107,
          108,
          109,
          110,
          111,
          112,
          113,
          114,
          115,
          116,
          117,
          118,
          119,
          120,
          121,
          122,
          123,
          124,
          125,
          126,
          127,
          128,
          129,
          130,
          131,
          132,
          133,
          134,
          135,
          136,
          137,
          138,
          139,
          140,
          141,
          142,
          143,
          144,
          145,
          146,
          151,
          152,
          153,
          154,
          155,
          160,
          161,
          162,
          163,
          164,
          165,
          166,
          168,
          169,
          170,
          171,
          172,
          173,
          174,
          175,
          176,
          177,
          182,
          183,
          184,
          186,
          187,
          188,
          207,
          208,
          209,
          210,
          211,
          212,
          218,
          219,
          220,
          221,
          222,
          223,
          224,
          225,
          226,
          227,
          228,
          229,
          230,
          231,
          232,
          233,
          234,
          235,
          236,
          237,
          238,
          239,
          240,
          241,
          242,
          243,
          244,
          245,
          246,
          247,
          248
         ],
         "type": "scatterpolar"
        },
        {
         "fill": "tonext",
         "line": {
          "color": "#FF2800"
         },
         "mode": "lines",
         "name": "top",
         "r": [
          3.7199999999999998,
          3.6399999999999997,
          4.199999999999999,
          3.9999999999999996,
          4.09,
          3.3599999999999994,
          3.44,
          3.6449999999999996,
          3.7049999999999996,
          3.6599999999999997,
          3.1399999999999997,
          3.1399999999999997,
          3.2849999999999997,
          3.3299999999999996,
          3.2849999999999993,
          3.0949999999999998,
          3.4,
          3.4,
          3.4,
          3.3499999999999996,
          3.3499999999999996,
          3.3499999999999996,
          3.455,
          4.22,
          4.4,
          4.4,
          4.41,
          4.4,
          4.4,
          4.46,
          4.45,
          4.49,
          4.2299999999999995,
          4.4,
          4.159999999999999,
          4.145,
          3.8599999999999994,
          3.8599999999999994,
          4,
          4.2,
          4.2,
          4.06,
          3.745,
          3.79,
          3.75,
          3.8099999999999996,
          3.57,
          3.14,
          2.855,
          2.855,
          2.9,
          2.995,
          2.995,
          3.51,
          3.545,
          3.545,
          2.665,
          2.68,
          2.68,
          2.5,
          2.5,
          2.5,
          2.5,
          2.6950000000000003,
          3.019999999999999,
          2.775,
          2.94,
          2.8299999999999996,
          2.75,
          3,
          3.025,
          3.01,
          2.94,
          3.04,
          3.05,
          3.04,
          2.9099999999999997,
          3,
          3,
          2.905,
          2.8899999999999997,
          2.905,
          2.925,
          2.92,
          2.755,
          2.9000000000000004,
          3.23,
          3.3799999999999994,
          3.4,
          3.57,
          3.54,
          3.54,
          3.7399999999999998,
          3.84,
          3.84,
          3.27,
          3.6,
          3.6,
          3.5500000000000003,
          2.57,
          3.2499999999999996,
          3.37,
          3.34,
          3.09,
          2.975,
          3.29,
          3.29,
          3.2699999999999996,
          2.6550000000000002,
          3.06,
          3.095,
          3.095,
          4.22,
          4.4,
          4.4,
          4.4,
          4.4,
          4.4,
          4.4,
          3.1,
          3.1,
          3.1,
          3.4,
          3.4,
          3.4,
          4.6,
          4.6,
          4.6,
          4.4,
          4.365,
          4.365,
          3.7,
          3.3,
          3.3,
          3.68,
          3.7,
          3.7,
          1.7,
          1.7,
          1.7,
          1.7,
          1.7,
          1.69,
          3.5799999999999996,
          3.5799999999999996,
          3.715,
          3.9899999999999998,
          3.9899999999999998,
          4.045
         ],
         "theta": [
          0,
          1,
          2,
          3,
          4,
          5,
          6,
          7,
          8,
          9,
          10,
          11,
          12,
          13,
          14,
          15,
          16,
          17,
          18,
          19,
          20,
          21,
          22,
          23,
          24,
          25,
          26,
          27,
          28,
          29,
          30,
          31,
          32,
          33,
          34,
          35,
          36,
          37,
          38,
          39,
          40,
          41,
          42,
          43,
          44,
          45,
          46,
          47,
          48,
          49,
          50,
          56,
          57,
          58,
          59,
          60,
          61,
          62,
          63,
          64,
          66,
          67,
          68,
          249,
          250,
          251,
          252,
          253,
          254,
          255,
          256,
          257,
          258,
          259,
          260,
          261,
          262,
          263,
          264,
          265,
          266,
          267,
          268,
          269,
          270,
          271,
          272,
          273,
          274,
          275,
          276,
          277,
          278,
          279,
          280,
          281,
          282,
          283,
          284,
          285,
          286,
          287,
          288,
          289,
          290,
          293,
          294,
          295,
          296,
          297,
          298,
          299,
          300,
          301,
          302,
          303,
          309,
          310,
          311,
          316,
          317,
          318,
          323,
          324,
          325,
          326,
          327,
          328,
          329,
          330,
          331,
          332,
          336,
          337,
          338,
          339,
          340,
          345,
          346,
          347,
          351,
          352,
          353,
          354,
          355,
          356,
          357,
          358,
          359
         ],
         "type": "scatterpolar"
        },
        {
         "fill": "tonext",
         "line": {
          "color": "#C02002"
         },
         "mode": "lines",
         "name": "mean",
         "r": [
          3,
          2.2,
          2.8,
          2.1,
          2.8,
          2.2,
          2.3,
          2.05,
          2.25,
          2.2,
          2.2,
          2.2,
          2.1,
          2.1,
          2,
          2.3499999999999996,
          2.8499999999999996,
          2.9,
          2.8,
          2.8,
          2.9,
          3.1,
          3.1500000000000004,
          3.2,
          3.25,
          3.1500000000000004,
          3.1,
          3,
          2.95,
          3.1,
          3.1,
          3.1,
          3.1500000000000004,
          3.2,
          3.1,
          2.8,
          2.7,
          2.7,
          2.6,
          2.95,
          3.6,
          3.2,
          2.8,
          2.8,
          2.8,
          3.2,
          3.3,
          2.6,
          2.45,
          2.45,
          2.9,
          2.95,
          2.95,
          2.95,
          3.05,
          3.05,
          2.35,
          2.5,
          2.5,
          2.5,
          2.5,
          2.5,
          2.5,
          2.1,
          2.1,
          2.1,
          2.2,
          2.1,
          2.05,
          2,
          2.05,
          2.1,
          2.1,
          2.2,
          2.1500000000000004,
          2.2,
          2.1,
          2.4,
          2,
          2,
          2,
          2.1500000000000004,
          2.1500000000000004,
          2.3,
          2.05,
          1.9,
          2.2,
          2.4,
          2.7,
          2.3,
          2.2,
          2.2,
          2.4,
          2.9,
          2.9,
          2.9,
          3.1500000000000004,
          2.85,
          2.5,
          2.3499999999999996,
          2.3499999999999996,
          3.1,
          3,
          3,
          2.75,
          3.2,
          3.2,
          2.9000000000000004,
          2.25,
          2.7,
          3.05,
          3.05,
          3.1,
          3.8000000000000003,
          3.8000000000000003,
          4.4,
          4.4,
          4.4,
          4.4,
          3.1,
          3.1,
          3.1,
          3.4,
          3.4,
          3.4,
          4.6,
          4.6,
          4.6,
          4.4,
          4.050000000000001,
          4.050000000000001,
          3.7,
          3.3,
          3.3,
          3.5,
          3.7,
          3.7,
          1.7,
          1.7,
          1.7,
          1.7,
          1.7,
          1.6,
          1.6,
          1.6,
          2.95,
          3,
          3,
          3.55
         ],
         "theta": [
          0,
          1,
          2,
          3,
          4,
          5,
          6,
          7,
          8,
          9,
          10,
          11,
          12,
          13,
          14,
          15,
          16,
          17,
          18,
          19,
          20,
          21,
          22,
          23,
          24,
          25,
          26,
          27,
          28,
          29,
          30,
          31,
          32,
          33,
          34,
          35,
          36,
          37,
          38,
          39,
          40,
          41,
          42,
          43,
          44,
          45,
          46,
          47,
          48,
          49,
          50,
          56,
          57,
          58,
          59,
          60,
          61,
          62,
          63,
          64,
          66,
          67,
          68,
          249,
          250,
          251,
          252,
          253,
          254,
          255,
          256,
          257,
          258,
          259,
          260,
          261,
          262,
          263,
          264,
          265,
          266,
          267,
          268,
          269,
          270,
          271,
          272,
          273,
          274,
          275,
          276,
          277,
          278,
          279,
          280,
          281,
          282,
          283,
          284,
          285,
          286,
          287,
          288,
          289,
          290,
          293,
          294,
          295,
          296,
          297,
          298,
          299,
          300,
          301,
          302,
          303,
          309,
          310,
          311,
          316,
          317,
          318,
          323,
          324,
          325,
          326,
          327,
          328,
          329,
          330,
          331,
          332,
          336,
          337,
          338,
          339,
          340,
          345,
          346,
          347,
          351,
          352,
          353,
          354,
          355,
          356,
          357,
          358,
          359
         ],
         "type": "scatterpolar"
        }
       ],
       "layout": {
        "autosize": false,
        "height": 700,
        "polar": {
         "angularaxis": {
          "direction": "clockwise",
          "rotation": 160,
          "type": "linear"
         },
         "radialaxis": {
          "autorange": true,
          "range": [
           0,
           10.526315789473685
          ],
          "type": "linear"
         }
        },
        "showlegend": true,
        "template": {
         "data": {
          "bar": [
           {
            "error_x": {
             "color": "#2a3f5f"
            },
            "error_y": {
             "color": "#2a3f5f"
            },
            "marker": {
             "line": {
              "color": "#E5ECF6",
              "width": 0.5
             },
             "pattern": {
              "fillmode": "overlay",
              "size": 10,
              "solidity": 0.2
             }
            },
            "type": "bar"
           }
          ],
          "barpolar": [
           {
            "marker": {
             "line": {
              "color": "#E5ECF6",
              "width": 0.5
             },
             "pattern": {
              "fillmode": "overlay",
              "size": 10,
              "solidity": 0.2
             }
            },
            "type": "barpolar"
           }
          ],
          "carpet": [
           {
            "aaxis": {
             "endlinecolor": "#2a3f5f",
             "gridcolor": "white",
             "linecolor": "white",
             "minorgridcolor": "white",
             "startlinecolor": "#2a3f5f"
            },
            "baxis": {
             "endlinecolor": "#2a3f5f",
             "gridcolor": "white",
             "linecolor": "white",
             "minorgridcolor": "white",
             "startlinecolor": "#2a3f5f"
            },
            "type": "carpet"
           }
          ],
          "choropleth": [
           {
            "colorbar": {
             "outlinewidth": 0,
             "ticks": ""
            },
            "type": "choropleth"
           }
          ],
          "contour": [
           {
            "colorbar": {
             "outlinewidth": 0,
             "ticks": ""
            },
            "colorscale": [
             [
              0,
              "#0d0887"
             ],
             [
              0.1111111111111111,
              "#46039f"
             ],
             [
              0.2222222222222222,
              "#7201a8"
             ],
             [
              0.3333333333333333,
              "#9c179e"
             ],
             [
              0.4444444444444444,
              "#bd3786"
             ],
             [
              0.5555555555555556,
              "#d8576b"
             ],
             [
              0.6666666666666666,
              "#ed7953"
             ],
             [
              0.7777777777777778,
              "#fb9f3a"
             ],
             [
              0.8888888888888888,
              "#fdca26"
             ],
             [
              1,
              "#f0f921"
             ]
            ],
            "type": "contour"
           }
          ],
          "contourcarpet": [
           {
            "colorbar": {
             "outlinewidth": 0,
             "ticks": ""
            },
            "type": "contourcarpet"
           }
          ],
          "heatmap": [
           {
            "colorbar": {
             "outlinewidth": 0,
             "ticks": ""
            },
            "colorscale": [
             [
              0,
              "#0d0887"
             ],
             [
              0.1111111111111111,
              "#46039f"
             ],
             [
              0.2222222222222222,
              "#7201a8"
             ],
             [
              0.3333333333333333,
              "#9c179e"
             ],
             [
              0.4444444444444444,
              "#bd3786"
             ],
             [
              0.5555555555555556,
              "#d8576b"
             ],
             [
              0.6666666666666666,
              "#ed7953"
             ],
             [
              0.7777777777777778,
              "#fb9f3a"
             ],
             [
              0.8888888888888888,
              "#fdca26"
             ],
             [
              1,
              "#f0f921"
             ]
            ],
            "type": "heatmap"
           }
          ],
          "heatmapgl": [
           {
            "colorbar": {
             "outlinewidth": 0,
             "ticks": ""
            },
            "colorscale": [
             [
              0,
              "#0d0887"
             ],
             [
              0.1111111111111111,
              "#46039f"
             ],
             [
              0.2222222222222222,
              "#7201a8"
             ],
             [
              0.3333333333333333,
              "#9c179e"
             ],
             [
              0.4444444444444444,
              "#bd3786"
             ],
             [
              0.5555555555555556,
              "#d8576b"
             ],
             [
              0.6666666666666666,
              "#ed7953"
             ],
             [
              0.7777777777777778,
              "#fb9f3a"
             ],
             [
              0.8888888888888888,
              "#fdca26"
             ],
             [
              1,
              "#f0f921"
             ]
            ],
            "type": "heatmapgl"
           }
          ],
          "histogram": [
           {
            "marker": {
             "pattern": {
              "fillmode": "overlay",
              "size": 10,
              "solidity": 0.2
             }
            },
            "type": "histogram"
           }
          ],
          "histogram2d": [
           {
            "colorbar": {
             "outlinewidth": 0,
             "ticks": ""
            },
            "colorscale": [
             [
              0,
              "#0d0887"
             ],
             [
              0.1111111111111111,
              "#46039f"
             ],
             [
              0.2222222222222222,
              "#7201a8"
             ],
             [
              0.3333333333333333,
              "#9c179e"
             ],
             [
              0.4444444444444444,
              "#bd3786"
             ],
             [
              0.5555555555555556,
              "#d8576b"
             ],
             [
              0.6666666666666666,
              "#ed7953"
             ],
             [
              0.7777777777777778,
              "#fb9f3a"
             ],
             [
              0.8888888888888888,
              "#fdca26"
             ],
             [
              1,
              "#f0f921"
             ]
            ],
            "type": "histogram2d"
           }
          ],
          "histogram2dcontour": [
           {
            "colorbar": {
             "outlinewidth": 0,
             "ticks": ""
            },
            "colorscale": [
             [
              0,
              "#0d0887"
             ],
             [
              0.1111111111111111,
              "#46039f"
             ],
             [
              0.2222222222222222,
              "#7201a8"
             ],
             [
              0.3333333333333333,
              "#9c179e"
             ],
             [
              0.4444444444444444,
              "#bd3786"
             ],
             [
              0.5555555555555556,
              "#d8576b"
             ],
             [
              0.6666666666666666,
              "#ed7953"
             ],
             [
              0.7777777777777778,
              "#fb9f3a"
             ],
             [
              0.8888888888888888,
              "#fdca26"
             ],
             [
              1,
              "#f0f921"
             ]
            ],
            "type": "histogram2dcontour"
           }
          ],
          "mesh3d": [
           {
            "colorbar": {
             "outlinewidth": 0,
             "ticks": ""
            },
            "type": "mesh3d"
           }
          ],
          "parcoords": [
           {
            "line": {
             "colorbar": {
              "outlinewidth": 0,
              "ticks": ""
             }
            },
            "type": "parcoords"
           }
          ],
          "pie": [
           {
            "automargin": true,
            "type": "pie"
           }
          ],
          "scatter": [
           {
            "fillpattern": {
             "fillmode": "overlay",
             "size": 10,
             "solidity": 0.2
            },
            "type": "scatter"
           }
          ],
          "scatter3d": [
           {
            "line": {
             "colorbar": {
              "outlinewidth": 0,
              "ticks": ""
             }
            },
            "marker": {
             "colorbar": {
              "outlinewidth": 0,
              "ticks": ""
             }
            },
            "type": "scatter3d"
           }
          ],
          "scattercarpet": [
           {
            "marker": {
             "colorbar": {
              "outlinewidth": 0,
              "ticks": ""
             }
            },
            "type": "scattercarpet"
           }
          ],
          "scattergeo": [
           {
            "marker": {
             "colorbar": {
              "outlinewidth": 0,
              "ticks": ""
             }
            },
            "type": "scattergeo"
           }
          ],
          "scattergl": [
           {
            "marker": {
             "colorbar": {
              "outlinewidth": 0,
              "ticks": ""
             }
            },
            "type": "scattergl"
           }
          ],
          "scattermapbox": [
           {
            "marker": {
             "colorbar": {
              "outlinewidth": 0,
              "ticks": ""
             }
            },
            "type": "scattermapbox"
           }
          ],
          "scatterpolar": [
           {
            "marker": {
             "colorbar": {
              "outlinewidth": 0,
              "ticks": ""
             }
            },
            "type": "scatterpolar"
           }
          ],
          "scatterpolargl": [
           {
            "marker": {
             "colorbar": {
              "outlinewidth": 0,
              "ticks": ""
             }
            },
            "type": "scatterpolargl"
           }
          ],
          "scatterternary": [
           {
            "marker": {
             "colorbar": {
              "outlinewidth": 0,
              "ticks": ""
             }
            },
            "type": "scatterternary"
           }
          ],
          "surface": [
           {
            "colorbar": {
             "outlinewidth": 0,
             "ticks": ""
            },
            "colorscale": [
             [
              0,
              "#0d0887"
             ],
             [
              0.1111111111111111,
              "#46039f"
             ],
             [
              0.2222222222222222,
              "#7201a8"
             ],
             [
              0.3333333333333333,
              "#9c179e"
             ],
             [
              0.4444444444444444,
              "#bd3786"
             ],
             [
              0.5555555555555556,
              "#d8576b"
             ],
             [
              0.6666666666666666,
              "#ed7953"
             ],
             [
              0.7777777777777778,
              "#fb9f3a"
             ],
             [
              0.8888888888888888,
              "#fdca26"
             ],
             [
              1,
              "#f0f921"
             ]
            ],
            "type": "surface"
           }
          ],
          "table": [
           {
            "cells": {
             "fill": {
              "color": "#EBF0F8"
             },
             "line": {
              "color": "white"
             }
            },
            "header": {
             "fill": {
              "color": "#C8D4E3"
             },
             "line": {
              "color": "white"
             }
            },
            "type": "table"
           }
          ]
         },
         "layout": {
          "annotationdefaults": {
           "arrowcolor": "#2a3f5f",
           "arrowhead": 0,
           "arrowwidth": 1
          },
          "autotypenumbers": "strict",
          "coloraxis": {
           "colorbar": {
            "outlinewidth": 0,
            "ticks": ""
           }
          },
          "colorscale": {
           "diverging": [
            [
             0,
             "#8e0152"
            ],
            [
             0.1,
             "#c51b7d"
            ],
            [
             0.2,
             "#de77ae"
            ],
            [
             0.3,
             "#f1b6da"
            ],
            [
             0.4,
             "#fde0ef"
            ],
            [
             0.5,
             "#f7f7f7"
            ],
            [
             0.6,
             "#e6f5d0"
            ],
            [
             0.7,
             "#b8e186"
            ],
            [
             0.8,
             "#7fbc41"
            ],
            [
             0.9,
             "#4d9221"
            ],
            [
             1,
             "#276419"
            ]
           ],
           "sequential": [
            [
             0,
             "#0d0887"
            ],
            [
             0.1111111111111111,
             "#46039f"
            ],
            [
             0.2222222222222222,
             "#7201a8"
            ],
            [
             0.3333333333333333,
             "#9c179e"
            ],
            [
             0.4444444444444444,
             "#bd3786"
            ],
            [
             0.5555555555555556,
             "#d8576b"
            ],
            [
             0.6666666666666666,
             "#ed7953"
            ],
            [
             0.7777777777777778,
             "#fb9f3a"
            ],
            [
             0.8888888888888888,
             "#fdca26"
            ],
            [
             1,
             "#f0f921"
            ]
           ],
           "sequentialminus": [
            [
             0,
             "#0d0887"
            ],
            [
             0.1111111111111111,
             "#46039f"
            ],
            [
             0.2222222222222222,
             "#7201a8"
            ],
            [
             0.3333333333333333,
             "#9c179e"
            ],
            [
             0.4444444444444444,
             "#bd3786"
            ],
            [
             0.5555555555555556,
             "#d8576b"
            ],
            [
             0.6666666666666666,
             "#ed7953"
            ],
            [
             0.7777777777777778,
             "#fb9f3a"
            ],
            [
             0.8888888888888888,
             "#fdca26"
            ],
            [
             1,
             "#f0f921"
            ]
           ]
          },
          "colorway": [
           "#636efa",
           "#EF553B",
           "#00cc96",
           "#ab63fa",
           "#FFA15A",
           "#19d3f3",
           "#FF6692",
           "#B6E880",
           "#FF97FF",
           "#FECB52"
          ],
          "font": {
           "color": "#2a3f5f"
          },
          "geo": {
           "bgcolor": "white",
           "lakecolor": "white",
           "landcolor": "#E5ECF6",
           "showlakes": true,
           "showland": true,
           "subunitcolor": "white"
          },
          "hoverlabel": {
           "align": "left"
          },
          "hovermode": "closest",
          "mapbox": {
           "style": "light"
          },
          "paper_bgcolor": "white",
          "plot_bgcolor": "#E5ECF6",
          "polar": {
           "angularaxis": {
            "gridcolor": "white",
            "linecolor": "white",
            "ticks": ""
           },
           "bgcolor": "#E5ECF6",
           "radialaxis": {
            "gridcolor": "white",
            "linecolor": "white",
            "ticks": ""
           }
          },
          "scene": {
           "xaxis": {
            "backgroundcolor": "#E5ECF6",
            "gridcolor": "white",
            "gridwidth": 2,
            "linecolor": "white",
            "showbackground": true,
            "ticks": "",
            "zerolinecolor": "white"
           },
           "yaxis": {
            "backgroundcolor": "#E5ECF6",
            "gridcolor": "white",
            "gridwidth": 2,
            "linecolor": "white",
            "showbackground": true,
            "ticks": "",
            "zerolinecolor": "white"
           },
           "zaxis": {
            "backgroundcolor": "#E5ECF6",
            "gridcolor": "white",
            "gridwidth": 2,
            "linecolor": "white",
            "showbackground": true,
            "ticks": "",
            "zerolinecolor": "white"
           }
          },
          "shapedefaults": {
           "line": {
            "color": "#2a3f5f"
           }
          },
          "ternary": {
           "aaxis": {
            "gridcolor": "white",
            "linecolor": "white",
            "ticks": ""
           },
           "baxis": {
            "gridcolor": "white",
            "linecolor": "white",
            "ticks": ""
           },
           "bgcolor": "#E5ECF6",
           "caxis": {
            "gridcolor": "white",
            "linecolor": "white",
            "ticks": ""
           }
          },
          "title": {
           "x": 0.05
          },
          "xaxis": {
           "automargin": true,
           "gridcolor": "white",
           "linecolor": "white",
           "ticks": "",
           "title": {
            "standoff": 15
           },
           "zerolinecolor": "white",
           "zerolinewidth": 2
          },
          "yaxis": {
           "automargin": true,
           "gridcolor": "white",
           "linecolor": "white",
           "ticks": "",
           "title": {
            "standoff": 15
           },
           "zerolinecolor": "white",
           "zerolinewidth": 2
          }
         }
        },
        "title": {
         "text": "Speed Polar"
        },
        "width": 700
       }
      },
      "image/png": "[encoded data removed]",
      "text/html": [
       "<div>                            <div id=\"a0ac0bbd-a52d-4858-a275-70f8291a87f2\" class=\"plotly-graph-div\" style=\"height:700px; width:700px;\"></div>            <script type=\"text/javascript\">                require([\"plotly\"], function(Plotly) {                    window.PLOTLYENV=window.PLOTLYENV || {};                                    if (document.getElementById(\"a0ac0bbd-a52d-4858-a275-70f8291a87f2\")) {                    Plotly.newPlot(                        \"a0ac0bbd-a52d-4858-a275-70f8291a87f2\",                        [{\"marker\":{\"color\":[\"gray\"],\"line\":{\"color\":\"black\",\"width\":2}},\"name\":\"True Wind Direction\",\"opacity\":0.9,\"r\":[10],\"theta\":[3],\"width\":[20],\"type\":\"barpolar\"},{\"fill\":\"tonext\",\"line\":{\"color\":\"#46FF01\"},\"mode\":\"lines\",\"name\":\"top\",\"r\":[2.5,2.5,2.5,3.475,3.425,3.425,3.34,3.4,3.8,3.7599999999999993,3.704999999999999,3.7749999999999995,3.8899999999999997,3.9,3.95,4.26,4.305,4.374999999999999,4.46,4.725,4.43,4.7,4.32,4.279999999999999,3.9899999999999993,3.6,3.8249999999999993,3.985,3.8799999999999994,4.0200000000000005,4.2,4.29,4.3,4.3,4.47,4.5,4.539999999999999,4.26,4.07,3.899999999999999,3.7199999999999993,3.6649999999999983,3.8999999999999986,4.319999999999999,4.455,4.355,4.365,4.119999999999999,3.55,3.4,3.385,3.965,3.96,3.96,3.2,4.8,4.7299999999999995,4.7299999999999995,3.4,3.7,3.7,4.15,4.17,4.17,4.4,4.375,4.4,4.325,4.325,3.874999999999999,2.4,4.22,4.14,4.074999999999999,2.78,2.78,2.6,2.6950000000000003,2.98,2.98,2.9899999999999998,2.4,2.4,2.4,2.3,2.3,2.3,4.5,4.5,4.5,1.7,1.7,1.7,1.8,2.275,2.275,2.3,2.085,2.28,2.54,2.525,2.6,3.4449999999999994,3.509999999999999,3.479999999999999,2.7099999999999995,2.7249999999999996,2.675,2.36,2.335,2.909999999999998,3.289999999999998,3.539999999999999,2.63,2.59,2.3,2.4099999999999997,2.3649999999999998,2.3899999999999997,2.26,2.3699999999999997,2.7149999999999994,2.6999999999999997,3.2499999999999987],\"theta\":[88,89,90,91,92,93,94,95,96,97,98,99,100,101,102,103,104,105,106,107,108,109,110,111,112,113,114,115,116,117,118,119,120,121,122,123,124,125,126,127,128,129,130,131,132,133,134,135,136,137,138,139,140,141,142,143,144,145,146,151,152,153,154,155,160,161,162,163,164,165,166,168,169,170,171,172,173,174,175,176,177,182,183,184,186,187,188,207,208,209,210,211,212,218,219,220,221,222,223,224,225,226,227,228,229,230,231,232,233,234,235,236,237,238,239,240,241,242,243,244,245,246,247,248],\"type\":\"scatterpolar\"},{\"fill\":\"tonext\",\"line\":{\"color\":\"#6AFF33\"},\"mode\":\"lines\",\"name\":\"mean\",\"r\":[2.5,2.5,2.5,3.25,2.7,2.7,2.7,3.2,3.1,3.1,3.0,3.0,3.0,3.0,2.95,3.1,3.2,3.2,3.1500000000000004,3.1,3.1,3.1,3.1,3.2,3.1500000000000004,3.1,2.95,3.1,3.1,3.3,3.3,3.1,3.1,3.2,3.25,3.3,3.3,3.4,3.45,3.3,3.2,3.1,3.0,3.1,3.3,3.5,3.45,3.4,3.3,3.3,3.25,3.65,3.6,3.6,3.2,4.8,4.1,4.1,3.4,3.7,3.7,3.7,3.9000000000000004,3.9000000000000004,4.4,4.15,4.15,3.55,2.9000000000000004,2.6,2.4,3.5,2.7,2.75,2.6,2.6,2.6,2.6500000000000004,2.8,2.8,2.9,2.4,2.4,2.4,2.3,2.3,2.3,4.5,4.5,4.5,1.7,1.7,1.7,1.8,2.05,2.05,2.3,1.9500000000000002,2.1,2.1,2.3,2.25,2.25,2.2,2.1,2.3,2.25,2.25,2.0,2.0,2.0,2.05,2.2,2.2,2.1500000000000004,2.05,2.1,2.05,2.1,2.1,2.2,2.1500000000000004,2.1,2.1500000000000004],\"theta\":[88,89,90,91,92,93,94,95,96,97,98,99,100,101,102,103,104,105,106,107,108,109,110,111,112,113,114,115,116,117,118,119,120,121,122,123,124,125,126,127,128,129,130,131,132,133,134,135,136,137,138,139,140,141,142,143,144,145,146,151,152,153,154,155,160,161,162,163,164,165,166,168,169,170,171,172,173,174,175,176,177,182,183,184,186,187,188,207,208,209,210,211,212,218,219,220,221,222,223,224,225,226,227,228,229,230,231,232,233,234,235,236,237,238,239,240,241,242,243,244,245,246,247,248],\"type\":\"scatterpolar\"},{\"fill\":\"tonext\",\"line\":{\"color\":\"#FF2800\"},\"mode\":\"lines\",\"name\":\"top\",\"r\":[3.7199999999999998,3.6399999999999997,4.199999999999999,3.9999999999999996,4.09,3.3599999999999994,3.44,3.6449999999999996,3.7049999999999996,3.6599999999999997,3.1399999999999997,3.1399999999999997,3.2849999999999997,3.3299999999999996,3.2849999999999993,3.0949999999999998,3.4,3.4,3.4,3.3499999999999996,3.3499999999999996,3.3499999999999996,3.455,4.22,4.4,4.4,4.41,4.4,4.4,4.46,4.45,4.49,4.2299999999999995,4.4,4.159999999999999,4.145,3.8599999999999994,3.8599999999999994,4.0,4.2,4.2,4.06,3.745,3.79,3.75,3.8099999999999996,3.57,3.14,2.855,2.855,2.9,2.995,2.995,3.51,3.545,3.545,2.665,2.68,2.68,2.5,2.5,2.5,2.5,2.6950000000000003,3.019999999999999,2.775,2.94,2.8299999999999996,2.75,3.0,3.025,3.01,2.94,3.04,3.05,3.04,2.9099999999999997,3.0,3.0,2.905,2.8899999999999997,2.905,2.925,2.92,2.755,2.9000000000000004,3.23,3.3799999999999994,3.4,3.57,3.54,3.54,3.7399999999999998,3.84,3.84,3.27,3.6,3.6,3.5500000000000003,2.57,3.2499999999999996,3.37,3.34,3.09,2.975,3.29,3.29,3.2699999999999996,2.6550000000000002,3.06,3.095,3.095,4.22,4.4,4.4,4.4,4.4,4.4,4.4,3.1,3.1,3.1,3.4,3.4,3.4,4.6,4.6,4.6,4.4,4.365,4.365,3.7,3.3,3.3,3.68,3.7,3.7,1.7,1.7,1.7,1.7,1.7,1.69,3.5799999999999996,3.5799999999999996,3.715,3.9899999999999998,3.9899999999999998,4.045],\"theta\":[0,1,2,3,4,5,6,7,8,9,10,11,12,13,14,15,16,17,18,19,20,21,22,23,24,25,26,27,28,29,30,31,32,33,34,35,36,37,38,39,40,41,42,43,44,45,46,47,48,49,50,56,57,58,59,60,61,62,63,64,66,67,68,249,250,251,252,253,254,255,256,257,258,259,260,261,262,263,264,265,266,267,268,269,270,271,272,273,274,275,276,277,278,279,280,281,282,283,284,285,286,287,288,289,290,293,294,295,296,297,298,299,300,301,302,303,309,310,311,316,317,318,323,324,325,326,327,328,329,330,331,332,336,337,338,339,340,345,346,347,351,352,353,354,355,356,357,358,359],\"type\":\"scatterpolar\"},{\"fill\":\"tonext\",\"line\":{\"color\":\"#C02002\"},\"mode\":\"lines\",\"name\":\"mean\",\"r\":[3.0,2.2,2.8,2.1,2.8,2.2,2.3,2.05,2.25,2.2,2.2,2.2,2.1,2.1,2.0,2.3499999999999996,2.8499999999999996,2.9,2.8,2.8,2.9,3.1,3.1500000000000004,3.2,3.25,3.1500000000000004,3.1,3.0,2.95,3.1,3.1,3.1,3.1500000000000004,3.2,3.1,2.8,2.7,2.7,2.6,2.95,3.6,3.2,2.8,2.8,2.8,3.2,3.3,2.6,2.45,2.45,2.9,2.95,2.95,2.95,3.05,3.05,2.35,2.5,2.5,2.5,2.5,2.5,2.5,2.1,2.1,2.1,2.2,2.1,2.05,2.0,2.05,2.1,2.1,2.2,2.1500000000000004,2.2,2.1,2.4,2.0,2.0,2.0,2.1500000000000004,2.1500000000000004,2.3,2.05,1.9,2.2,2.4,2.7,2.3,2.2,2.2,2.4,2.9,2.9,2.9,3.1500000000000004,2.85,2.5,2.3499999999999996,2.3499999999999996,3.1,3.0,3.0,2.75,3.2,3.2,2.9000000000000004,2.25,2.7,3.05,3.05,3.1,3.8000000000000003,3.8000000000000003,4.4,4.4,4.4,4.4,3.1,3.1,3.1,3.4,3.4,3.4,4.6,4.6,4.6,4.4,4.050000000000001,4.050000000000001,3.7,3.3,3.3,3.5,3.7,3.7,1.7,1.7,1.7,1.7,1.7,1.6,1.6,1.6,2.95,3.0,3.0,3.55],\"theta\":[0,1,2,3,4,5,6,7,8,9,10,11,12,13,14,15,16,17,18,19,20,21,22,23,24,25,26,27,28,29,30,31,32,33,34,35,36,37,38,39,40,41,42,43,44,45,46,47,48,49,50,56,57,58,59,60,61,62,63,64,66,67,68,249,250,251,252,253,254,255,256,257,258,259,260,261,262,263,264,265,266,267,268,269,270,271,272,273,274,275,276,277,278,279,280,281,282,283,284,285,286,287,288,289,290,293,294,295,296,297,298,299,300,301,302,303,309,310,311,316,317,318,323,324,325,326,327,328,329,330,331,332,336,337,338,339,340,345,346,347,351,352,353,354,355,356,357,358,359],\"type\":\"scatterpolar\"}],                        {\"template\":{\"data\":{\"histogram2dcontour\":[{\"type\":\"histogram2dcontour\",\"colorbar\":{\"outlinewidth\":0,\"ticks\":\"\"},\"colorscale\":[[0.0,\"#0d0887\"],[0.1111111111111111,\"#46039f\"],[0.2222222222222222,\"#7201a8\"],[0.3333333333333333,\"#9c179e\"],[0.4444444444444444,\"#bd3786\"],[0.5555555555555556,\"#d8576b\"],[0.6666666666666666,\"#ed7953\"],[0.7777777777777778,\"#fb9f3a\"],[0.8888888888888888,\"#fdca26\"],[1.0,\"#f0f921\"]]}],\"choropleth\":[{\"type\":\"choropleth\",\"colorbar\":{\"outlinewidth\":0,\"ticks\":\"\"}}],\"histogram2d\":[{\"type\":\"histogram2d\",\"colorbar\":{\"outlinewidth\":0,\"ticks\":\"\"},\"colorscale\":[[0.0,\"#0d0887\"],[0.1111111111111111,\"#46039f\"],[0.2222222222222222,\"#7201a8\"],[0.3333333333333333,\"#9c179e\"],[0.4444444444444444,\"#bd3786\"],[0.5555555555555556,\"#d8576b\"],[0.6666666666666666,\"#ed7953\"],[0.7777777777777778,\"#fb9f3a\"],[0.8888888888888888,\"#fdca26\"],[1.0,\"#f0f921\"]]}],\"heatmap\":[{\"type\":\"heatmap\",\"colorbar\":{\"outlinewidth\":0,\"ticks\":\"\"},\"colorscale\":[[0.0,\"#0d0887\"],[0.1111111111111111,\"#46039f\"],[0.2222222222222222,\"#7201a8\"],[0.3333333333333333,\"#9c179e\"],[0.4444444444444444,\"#bd3786\"],[0.5555555555555556,\"#d8576b\"],[0.6666666666666666,\"#ed7953\"],[0.7777777777777778,\"#fb9f3a\"],[0.8888888888888888,\"#fdca26\"],[1.0,\"#f0f921\"]]}],\"heatmapgl\":[{\"type\":\"heatmapgl\",\"colorbar\":{\"outlinewidth\":0,\"ticks\":\"\"},\"colorscale\":[[0.0,\"#0d0887\"],[0.1111111111111111,\"#46039f\"],[0.2222222222222222,\"#7201a8\"],[0.3333333333333333,\"#9c179e\"],[0.4444444444444444,\"#bd3786\"],[0.5555555555555556,\"#d8576b\"],[0.6666666666666666,\"#ed7953\"],[0.7777777777777778,\"#fb9f3a\"],[0.8888888888888888,\"#fdca26\"],[1.0,\"#f0f921\"]]}],\"contourcarpet\":[{\"type\":\"contourcarpet\",\"colorbar\":{\"outlinewidth\":0,\"ticks\":\"\"}}],\"contour\":[{\"type\":\"contour\",\"colorbar\":{\"outlinewidth\":0,\"ticks\":\"\"},\"colorscale\":[[0.0,\"#0d0887\"],[0.1111111111111111,\"#46039f\"],[0.2222222222222222,\"#7201a8\"],[0.3333333333333333,\"#9c179e\"],[0.4444444444444444,\"#bd3786\"],[0.5555555555555556,\"#d8576b\"],[0.6666666666666666,\"#ed7953\"],[0.7777777777777778,\"#fb9f3a\"],[0.8888888888888888,\"#fdca26\"],[1.0,\"#f0f921\"]]}],\"surface\":[{\"type\":\"surface\",\"colorbar\":{\"outlinewidth\":0,\"ticks\":\"\"},\"colorscale\":[[0.0,\"#0d0887\"],[0.1111111111111111,\"#46039f\"],[0.2222222222222222,\"#7201a8\"],[0.3333333333333333,\"#9c179e\"],[0.4444444444444444,\"#bd3786\"],[0.5555555555555556,\"#d8576b\"],[0.6666666666666666,\"#ed7953\"],[0.7777777777777778,\"#fb9f3a\"],[0.8888888888888888,\"#fdca26\"],[1.0,\"#f0f921\"]]}],\"mesh3d\":[{\"type\":\"mesh3d\",\"colorbar\":{\"outlinewidth\":0,\"ticks\":\"\"}}],\"scatter\":[{\"fillpattern\":{\"fillmode\":\"overlay\",\"size\":10,\"solidity\":0.2},\"type\":\"scatter\"}],\"parcoords\":[{\"type\":\"parcoords\",\"line\":{\"colorbar\":{\"outlinewidth\":0,\"ticks\":\"\"}}}],\"scatterpolargl\":[{\"type\":\"scatterpolargl\",\"marker\":{\"colorbar\":{\"outlinewidth\":0,\"ticks\":\"\"}}}],\"bar\":[{\"error_x\":{\"color\":\"#2a3f5f\"},\"error_y\":{\"color\":\"#2a3f5f\"},\"marker\":{\"line\":{\"color\":\"#E5ECF6\",\"width\":0.5},\"pattern\":{\"fillmode\":\"overlay\",\"size\":10,\"solidity\":0.2}},\"type\":\"bar\"}],\"scattergeo\":[{\"type\":\"scattergeo\",\"marker\":{\"colorbar\":{\"outlinewidth\":0,\"ticks\":\"\"}}}],\"scatterpolar\":[{\"type\":\"scatterpolar\",\"marker\":{\"colorbar\":{\"outlinewidth\":0,\"ticks\":\"\"}}}],\"histogram\":[{\"marker\":{\"pattern\":{\"fillmode\":\"overlay\",\"size\":10,\"solidity\":0.2}},\"type\":\"histogram\"}],\"scattergl\":[{\"type\":\"scattergl\",\"marker\":{\"colorbar\":{\"outlinewidth\":0,\"ticks\":\"\"}}}],\"scatter3d\":[{\"type\":\"scatter3d\",\"line\":{\"colorbar\":{\"outlinewidth\":0,\"ticks\":\"\"}},\"marker\":{\"colorbar\":{\"outlinewidth\":0,\"ticks\":\"\"}}}],\"scattermapbox\":[{\"type\":\"scattermapbox\",\"marker\":{\"colorbar\":{\"outlinewidth\":0,\"ticks\":\"\"}}}],\"scatterternary\":[{\"type\":\"scatterternary\",\"marker\":{\"colorbar\":{\"outlinewidth\":0,\"ticks\":\"\"}}}],\"scattercarpet\":[{\"type\":\"scattercarpet\",\"marker\":{\"colorbar\":{\"outlinewidth\":0,\"ticks\":\"\"}}}],\"carpet\":[{\"aaxis\":{\"endlinecolor\":\"#2a3f5f\",\"gridcolor\":\"white\",\"linecolor\":\"white\",\"minorgridcolor\":\"white\",\"startlinecolor\":\"#2a3f5f\"},\"baxis\":{\"endlinecolor\":\"#2a3f5f\",\"gridcolor\":\"white\",\"linecolor\":\"white\",\"minorgridcolor\":\"white\",\"startlinecolor\":\"#2a3f5f\"},\"type\":\"carpet\"}],\"table\":[{\"cells\":{\"fill\":{\"color\":\"#EBF0F8\"},\"line\":{\"color\":\"white\"}},\"header\":{\"fill\":{\"color\":\"#C8D4E3\"},\"line\":{\"color\":\"white\"}},\"type\":\"table\"}],\"barpolar\":[{\"marker\":{\"line\":{\"color\":\"#E5ECF6\",\"width\":0.5},\"pattern\":{\"fillmode\":\"overlay\",\"size\":10,\"solidity\":0.2}},\"type\":\"barpolar\"}],\"pie\":[{\"automargin\":true,\"type\":\"pie\"}]},\"layout\":{\"autotypenumbers\":\"strict\",\"colorway\":[\"#636efa\",\"#EF553B\",\"#00cc96\",\"#ab63fa\",\"#FFA15A\",\"#19d3f3\",\"#FF6692\",\"#B6E880\",\"#FF97FF\",\"#FECB52\"],\"font\":{\"color\":\"#2a3f5f\"},\"hovermode\":\"closest\",\"hoverlabel\":{\"align\":\"left\"},\"paper_bgcolor\":\"white\",\"plot_bgcolor\":\"#E5ECF6\",\"polar\":{\"bgcolor\":\"#E5ECF6\",\"angularaxis\":{\"gridcolor\":\"white\",\"linecolor\":\"white\",\"ticks\":\"\"},\"radialaxis\":{\"gridcolor\":\"white\",\"linecolor\":\"white\",\"ticks\":\"\"}},\"ternary\":{\"bgcolor\":\"#E5ECF6\",\"aaxis\":{\"gridcolor\":\"white\",\"linecolor\":\"white\",\"ticks\":\"\"},\"baxis\":{\"gridcolor\":\"white\",\"linecolor\":\"white\",\"ticks\":\"\"},\"caxis\":{\"gridcolor\":\"white\",\"linecolor\":\"white\",\"ticks\":\"\"}},\"coloraxis\":{\"colorbar\":{\"outlinewidth\":0,\"ticks\":\"\"}},\"colorscale\":{\"sequential\":[[0.0,\"#0d0887\"],[0.1111111111111111,\"#46039f\"],[0.2222222222222222,\"#7201a8\"],[0.3333333333333333,\"#9c179e\"],[0.4444444444444444,\"#bd3786\"],[0.5555555555555556,\"#d8576b\"],[0.6666666666666666,\"#ed7953\"],[0.7777777777777778,\"#fb9f3a\"],[0.8888888888888888,\"#fdca26\"],[1.0,\"#f0f921\"]],\"sequentialminus\":[[0.0,\"#0d0887\"],[0.1111111111111111,\"#46039f\"],[0.2222222222222222,\"#7201a8\"],[0.3333333333333333,\"#9c179e\"],[0.4444444444444444,\"#bd3786\"],[0.5555555555555556,\"#d8576b\"],[0.6666666666666666,\"#ed7953\"],[0.7777777777777778,\"#fb9f3a\"],[0.8888888888888888,\"#fdca26\"],[1.0,\"#f0f921\"]],\"diverging\":[[0,\"#8e0152\"],[0.1,\"#c51b7d\"],[0.2,\"#de77ae\"],[0.3,\"#f1b6da\"],[0.4,\"#fde0ef\"],[0.5,\"#f7f7f7\"],[0.6,\"#e6f5d0\"],[0.7,\"#b8e186\"],[0.8,\"#7fbc41\"],[0.9,\"#4d9221\"],[1,\"#276419\"]]},\"xaxis\":{\"gridcolor\":\"white\",\"linecolor\":\"white\",\"ticks\":\"\",\"title\":{\"standoff\":15},\"zerolinecolor\":\"white\",\"automargin\":true,\"zerolinewidth\":2},\"yaxis\":{\"gridcolor\":\"white\",\"linecolor\":\"white\",\"ticks\":\"\",\"title\":{\"standoff\":15},\"zerolinecolor\":\"white\",\"automargin\":true,\"zerolinewidth\":2},\"scene\":{\"xaxis\":{\"backgroundcolor\":\"#E5ECF6\",\"gridcolor\":\"white\",\"linecolor\":\"white\",\"showbackground\":true,\"ticks\":\"\",\"zerolinecolor\":\"white\",\"gridwidth\":2},\"yaxis\":{\"backgroundcolor\":\"#E5ECF6\",\"gridcolor\":\"white\",\"linecolor\":\"white\",\"showbackground\":true,\"ticks\":\"\",\"zerolinecolor\":\"white\",\"gridwidth\":2},\"zaxis\":{\"backgroundcolor\":\"#E5ECF6\",\"gridcolor\":\"white\",\"linecolor\":\"white\",\"showbackground\":true,\"ticks\":\"\",\"zerolinecolor\":\"white\",\"gridwidth\":2}},\"shapedefaults\":{\"line\":{\"color\":\"#2a3f5f\"}},\"annotationdefaults\":{\"arrowcolor\":\"#2a3f5f\",\"arrowhead\":0,\"arrowwidth\":1},\"geo\":{\"bgcolor\":\"white\",\"landcolor\":\"#E5ECF6\",\"subunitcolor\":\"white\",\"showland\":true,\"showlakes\":true,\"lakecolor\":\"white\"},\"title\":{\"x\":0.05},\"mapbox\":{\"style\":\"light\"}}},\"polar\":{\"angularaxis\":{\"direction\":\"clockwise\",\"rotation\":160}},\"autosize\":false,\"width\":700,\"height\":700,\"title\":{\"text\":\"Speed Polar\"},\"showlegend\":true},                        {\"responsive\": true}                    ).then(function(){\n",
       "                            \n",
       "var gd = document.getElementById('a0ac0bbd-a52d-4858-a275-70f8291a87f2');\n",
       "var x = new MutationObserver(function (mutations, observer) {{\n",
       "        var display = window.getComputedStyle(gd).display;\n",
       "        if (!display || display === 'none') {{\n",
       "            console.log([gd, 'removed!']);\n",
       "            Plotly.purge(gd);\n",
       "            observer.disconnect();\n",
       "        }}\n",
       "}});\n",
       "\n",
       "// Listen for the removal of the full notebook cells\n",
       "var notebookContainer = gd.closest('#notebook-container');\n",
       "if (notebookContainer) {{\n",
       "    x.observe(notebookContainer, {childList: true});\n",
       "}}\n",
       "\n",
       "// Listen for the clearing of the current output cell\n",
       "var outputEl = gd.closest('.output');\n",
       "if (outputEl) {{\n",
       "    x.observe(outputEl, {childList: true});\n",
       "}}\n",
       "\n",
       "                        })                };                });            </script>        </div>"
      ]
     },
     "metadata": {},
     "output_type": "display_data"
    }
   ],
   "source": []
  },
  {
   "cell_type": "code",
   "execution_count": 82,
   "id": "09278314-56d6-42a1-8a4f-8821a136d6c2",
   "metadata": {},
   "outputs": [
    {
     "data": {
      "text/html": [
       "<div>\n",
       "<style scoped>\n",
       "    .dataframe tbody tr th:only-of-type {\n",
       "        vertical-align: middle;\n",
       "    }\n",
       "\n",
       "    .dataframe tbody tr th {\n",
       "        vertical-align: top;\n",
       "    }\n",
       "\n",
       "    .dataframe thead th {\n",
       "        text-align: right;\n",
       "    }\n",
       "</style>\n",
       "<table border=\"1\" class=\"dataframe\">\n",
       "  <thead>\n",
       "    <tr style=\"text-align: right;\">\n",
       "      <th></th>\n",
       "      <th>cog</th>\n",
       "      <th>top</th>\n",
       "      <th>mean</th>\n",
       "      <th>tack_raw</th>\n",
       "    </tr>\n",
       "  </thead>\n",
       "  <tbody>\n",
       "    <tr>\n",
       "      <th>0</th>\n",
       "      <td>0</td>\n",
       "      <td>3.720</td>\n",
       "      <td>3.00</td>\n",
       "      <td>-1.0</td>\n",
       "    </tr>\n",
       "    <tr>\n",
       "      <th>1</th>\n",
       "      <td>1</td>\n",
       "      <td>3.640</td>\n",
       "      <td>2.20</td>\n",
       "      <td>-1.0</td>\n",
       "    </tr>\n",
       "    <tr>\n",
       "      <th>2</th>\n",
       "      <td>2</td>\n",
       "      <td>4.200</td>\n",
       "      <td>2.80</td>\n",
       "      <td>-1.0</td>\n",
       "    </tr>\n",
       "    <tr>\n",
       "      <th>3</th>\n",
       "      <td>3</td>\n",
       "      <td>4.000</td>\n",
       "      <td>2.10</td>\n",
       "      <td>-1.0</td>\n",
       "    </tr>\n",
       "    <tr>\n",
       "      <th>4</th>\n",
       "      <td>4</td>\n",
       "      <td>4.090</td>\n",
       "      <td>2.80</td>\n",
       "      <td>-1.0</td>\n",
       "    </tr>\n",
       "    <tr>\n",
       "      <th>...</th>\n",
       "      <td>...</td>\n",
       "      <td>...</td>\n",
       "      <td>...</td>\n",
       "      <td>...</td>\n",
       "    </tr>\n",
       "    <tr>\n",
       "      <th>356</th>\n",
       "      <td>356</td>\n",
       "      <td>3.715</td>\n",
       "      <td>2.95</td>\n",
       "      <td>-1.0</td>\n",
       "    </tr>\n",
       "    <tr>\n",
       "      <th>357</th>\n",
       "      <td>357</td>\n",
       "      <td>3.990</td>\n",
       "      <td>3.00</td>\n",
       "      <td>-1.0</td>\n",
       "    </tr>\n",
       "    <tr>\n",
       "      <th>358</th>\n",
       "      <td>358</td>\n",
       "      <td>3.990</td>\n",
       "      <td>3.00</td>\n",
       "      <td>-1.0</td>\n",
       "    </tr>\n",
       "    <tr>\n",
       "      <th>359</th>\n",
       "      <td>359</td>\n",
       "      <td>4.045</td>\n",
       "      <td>3.55</td>\n",
       "      <td>-1.0</td>\n",
       "    </tr>\n",
       "    <tr>\n",
       "      <th>360</th>\n",
       "      <td>360</td>\n",
       "      <td>NaN</td>\n",
       "      <td>NaN</td>\n",
       "      <td>NaN</td>\n",
       "    </tr>\n",
       "  </tbody>\n",
       "</table>\n",
       "<p>361 rows × 4 columns</p>\n",
       "</div>"
      ],
      "text/plain": [
       "     cog    top  mean  tack_raw\n",
       "0      0  3.720  3.00      -1.0\n",
       "1      1  3.640  2.20      -1.0\n",
       "2      2  4.200  2.80      -1.0\n",
       "3      3  4.000  2.10      -1.0\n",
       "4      4  4.090  2.80      -1.0\n",
       "..   ...    ...   ...       ...\n",
       "356  356  3.715  2.95      -1.0\n",
       "357  357  3.990  3.00      -1.0\n",
       "358  358  3.990  3.00      -1.0\n",
       "359  359  4.045  3.55      -1.0\n",
       "360  360    NaN   NaN       NaN\n",
       "\n",
       "[361 rows x 4 columns]"
      ]
     },
     "execution_count": 82,
     "metadata": {},
     "output_type": "execute_result"
    }
   ],
   "source": []
  }
 ],
 "metadata": {
  "kernelspec": {
   "display_name": "Python 3 (ipykernel)",
   "language": "python",
   "name": "python3"
  },
  "language_info": {
   "codemirror_mode": {
    "name": "ipython",
    "version": 3
   },
   "file_extension": ".py",
   "mimetype": "text/x-python",
   "name": "python",
   "nbconvert_exporter": "python",
   "pygments_lexer": "ipython3",
   "version": "3.10.12"
  }
 },
 "nbformat": 4,
 "nbformat_minor": 5
}
